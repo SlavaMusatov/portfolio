{
 "cells": [
  {
   "cell_type": "markdown",
   "metadata": {},
   "source": [
    "<h1>Рекламные конструкции. Город Пенза</h1>\n",
    "Аналитический проект на открытых данных. <br>\n",
    "<b>Заказчик: </b> Самостоятельный проект. <br>\n",
    "<b>Цель: </b> Найти полезные рекомендации для рекламодателей. <br>\n",
    "<b>Описание проекта:</b> Этот проект придуман самостоятельно и сделан с использованием открытых данных для того, чтобы продемонстрировать возможности анализа данных. <br>\n",
    "<b>Описание данных:</b> таблица получена с сайта <a href = \"https://data.gov.ru/opendata/4027017947-advertising\">Открытые данные России</a><br>\n",
    "Структура данных: <br>\n",
    "0   № разрешения<br>\n",
    "1   Начало срока действия разрешения <br>\n",
    "2   Окончание срока действия разрешения<br>\n",
    "3   Организационно- правовая форма владельца<br>\n",
    "4   Владелец рекламной конструкции<br>\n",
    "5   Вид рекламной конструкции<br>\n",
    "6   Размер рекламной конструкции<br>\n",
    "7   Адрес размещения конструкции<br>\n",
    "8   Вид собственности недвищимого имущества<br>\n",
    "9   Основание на установку и эксплуатацию рекламной конструкции (Договор с собственником недвижимого имущества (далее ДСНИ) - для частной собственности; № договора - для муниципальной собственности)<br>\n",
    "<b>План работы:</b><br>\n",
    "Шаг 1. Получение данных и предобработка. <br>\n",
    "Изменение названий столбцов на более короткие на английском языке. Проверка пропусков, дубликатов и значений данных. Замена типов данных даты и времени. Преобразование столбца \"размер рекламной конструкции\" в число с вычислением значения площади. <br>\n",
    "ШАГ 2. Исследовательский анализ. <br>\n",
    "Найти топ 10 самых активных владельцев рекламных конструкций. <br>\n",
    "Найти топ 10 улиц, популярных для установки рекламных конструкций. <br>\n",
    "Определить длительность каждого разрешения и площадь конструкций. <br>\n",
    "Оценить корреляцию длительности разрешения и площади конструкции. Построить диаграмму рассеяния. <br>\n",
    "Какие типы конструкций популярны у разных организационно-правовых форм. Построить тепловую карту. <br>\n",
    "Шаг 3. Статистический анализ. <br>\n",
    "Проверить гипотезу: средний размер рекламной конструкции различен для частных и муниципальных владельцев. <br>\n",
    "Шаг 4. Когортный анализ. <br>\n",
    "Разделить владельцев на когорты по году начала первого разрешения. <br>\n",
    "Вычислить, сколько новых разрешений получают когорты по годам. Построить тепловую карту. <br>\n",
    "Шаг 5. Общие выводы. "
   ]
  },
  {
   "cell_type": "markdown",
   "metadata": {},
   "source": [
    "<h2>Шаг 1. Получение данных и предобработка.</h2> "
   ]
  },
  {
   "cell_type": "code",
   "execution_count": 1,
   "metadata": {},
   "outputs": [
    {
     "data": {
      "text/html": [
       "<div>\n",
       "<style scoped>\n",
       "    .dataframe tbody tr th:only-of-type {\n",
       "        vertical-align: middle;\n",
       "    }\n",
       "\n",
       "    .dataframe tbody tr th {\n",
       "        vertical-align: top;\n",
       "    }\n",
       "\n",
       "    .dataframe thead th {\n",
       "        text-align: right;\n",
       "    }\n",
       "</style>\n",
       "<table border=\"1\" class=\"dataframe\">\n",
       "  <thead>\n",
       "    <tr style=\"text-align: right;\">\n",
       "      <th></th>\n",
       "      <th>№ разрешения</th>\n",
       "      <th>Начало срока действия разрешения</th>\n",
       "      <th>Окончание срока действия разрешения</th>\n",
       "      <th>Организационно- правовая форма владельца</th>\n",
       "      <th>Владелец рекламной конструкции</th>\n",
       "      <th>Вид рекламной конструкции</th>\n",
       "      <th>Размер рекламной конструкции</th>\n",
       "      <th>Адрес размещения конструкции</th>\n",
       "      <th>Вид собственности недвищимого имущества</th>\n",
       "      <th>Основание на установку и эксплуатацию рекламной конструкции (Договор с собственником недвижимого имущества (далее ДСНИ) - для частной собственности; № договора - для муниципальной собственности)</th>\n",
       "    </tr>\n",
       "  </thead>\n",
       "  <tbody>\n",
       "    <tr>\n",
       "      <th>0</th>\n",
       "      <td>92-14</td>\n",
       "      <td>41730</td>\n",
       "      <td>44651</td>\n",
       "      <td>ИП</td>\n",
       "      <td>Акжигитов Б.У.</td>\n",
       "      <td>Настенное панно (Эл. Экран)</td>\n",
       "      <td>3х6</td>\n",
       "      <td>пр. Строителей, 134 а</td>\n",
       "      <td>Частная</td>\n",
       "      <td>ДСНИ</td>\n",
       "    </tr>\n",
       "    <tr>\n",
       "      <th>1</th>\n",
       "      <td>96-14</td>\n",
       "      <td>41733</td>\n",
       "      <td>44654</td>\n",
       "      <td>ООО</td>\n",
       "      <td>Гипромаш</td>\n",
       "      <td>Световой короб</td>\n",
       "      <td>0,8х3</td>\n",
       "      <td>ул. Кураева, 1 а</td>\n",
       "      <td>Частная</td>\n",
       "      <td>ДСНИ</td>\n",
       "    </tr>\n",
       "    <tr>\n",
       "      <th>2</th>\n",
       "      <td>97-14</td>\n",
       "      <td>41733</td>\n",
       "      <td>44654</td>\n",
       "      <td>ООО</td>\n",
       "      <td>Гипромаш</td>\n",
       "      <td>Световой короб</td>\n",
       "      <td>0,8х3</td>\n",
       "      <td>ул. Кураева, 1 а</td>\n",
       "      <td>Частная</td>\n",
       "      <td>ДСНИ</td>\n",
       "    </tr>\n",
       "    <tr>\n",
       "      <th>3</th>\n",
       "      <td>98-14</td>\n",
       "      <td>41733</td>\n",
       "      <td>44654</td>\n",
       "      <td>ООО</td>\n",
       "      <td>Гипромаш</td>\n",
       "      <td>Световой короб</td>\n",
       "      <td>0,8х3</td>\n",
       "      <td>ул. Кураева, 1 а</td>\n",
       "      <td>Частная</td>\n",
       "      <td>ДСНИ</td>\n",
       "    </tr>\n",
       "    <tr>\n",
       "      <th>4</th>\n",
       "      <td>99-14</td>\n",
       "      <td>41733</td>\n",
       "      <td>44654</td>\n",
       "      <td>ООО</td>\n",
       "      <td>Гипромаш</td>\n",
       "      <td>Световой короб</td>\n",
       "      <td>0,8х3</td>\n",
       "      <td>ул. Кураева, 1 а</td>\n",
       "      <td>Частная</td>\n",
       "      <td>ДСНИ</td>\n",
       "    </tr>\n",
       "  </tbody>\n",
       "</table>\n",
       "</div>"
      ],
      "text/plain": [
       "  № разрешения Начало срока действия разрешения  \\\n",
       "0        92-14                            41730   \n",
       "1        96-14                            41733   \n",
       "2        97-14                            41733   \n",
       "3        98-14                            41733   \n",
       "4        99-14                            41733   \n",
       "\n",
       "  Окончание срока действия разрешения  \\\n",
       "0                               44651   \n",
       "1                               44654   \n",
       "2                               44654   \n",
       "3                               44654   \n",
       "4                               44654   \n",
       "\n",
       "  Организационно- правовая форма владельца Владелец рекламной конструкции  \\\n",
       "0                                       ИП                 Акжигитов Б.У.   \n",
       "1                                      ООО                       Гипромаш   \n",
       "2                                      ООО                       Гипромаш   \n",
       "3                                      ООО                       Гипромаш   \n",
       "4                                      ООО                       Гипромаш   \n",
       "\n",
       "     Вид рекламной конструкции Размер рекламной конструкции  \\\n",
       "0  Настенное панно (Эл. Экран)                          3х6   \n",
       "1               Световой короб                        0,8х3   \n",
       "2               Световой короб                        0,8х3   \n",
       "3               Световой короб                        0,8х3   \n",
       "4               Световой короб                        0,8х3   \n",
       "\n",
       "  Адрес размещения конструкции Вид собственности недвищимого имущества  \\\n",
       "0        пр. Строителей, 134 а                                 Частная   \n",
       "1             ул. Кураева, 1 а                                 Частная   \n",
       "2             ул. Кураева, 1 а                                 Частная   \n",
       "3             ул. Кураева, 1 а                                 Частная   \n",
       "4             ул. Кураева, 1 а                                 Частная   \n",
       "\n",
       "  Основание на установку и эксплуатацию рекламной конструкции (Договор с собственником недвижимого имущества (далее ДСНИ) - для частной собственности; № договора - для муниципальной собственности)  \n",
       "0                                               ДСНИ                                                                                                                                                  \n",
       "1                                               ДСНИ                                                                                                                                                  \n",
       "2                                               ДСНИ                                                                                                                                                  \n",
       "3                                               ДСНИ                                                                                                                                                  \n",
       "4                                               ДСНИ                                                                                                                                                  "
      ]
     },
     "metadata": {},
     "output_type": "display_data"
    }
   ],
   "source": [
    "#Получение данных и осмотр верхних строк таблицы. \n",
    "import pandas as pd\n",
    "import seaborn as sns\n",
    "import matplotlib.pyplot as plt\n",
    "\n",
    "df = pd.read_csv('penza_constructions.csv')\n",
    "display(df.head())"
   ]
  },
  {
   "cell_type": "code",
   "execution_count": 2,
   "metadata": {},
   "outputs": [
    {
     "name": "stdout",
     "output_type": "stream",
     "text": [
      "Поиск дубликатов строк: 3\n"
     ]
    }
   ],
   "source": [
    "print('Поиск дубликатов строк:',df.duplicated().sum())"
   ]
  },
  {
   "cell_type": "code",
   "execution_count": 3,
   "metadata": {},
   "outputs": [],
   "source": [
    "df = df.drop_duplicates()"
   ]
  },
  {
   "cell_type": "code",
   "execution_count": 4,
   "metadata": {},
   "outputs": [
    {
     "name": "stdout",
     "output_type": "stream",
     "text": [
      "<class 'pandas.core.frame.DataFrame'>\n",
      "Int64Index: 1245 entries, 0 to 1247\n",
      "Data columns (total 10 columns):\n",
      " #   Column         Non-Null Count  Dtype \n",
      "---  ------         --------------  ----- \n",
      " 0   premission_id  1245 non-null   object\n",
      " 1   start          1245 non-null   object\n",
      " 2   end            1245 non-null   object\n",
      " 3   form           1245 non-null   object\n",
      " 4   owner          1245 non-null   object\n",
      " 5   type           1245 non-null   object\n",
      " 6   size           1242 non-null   object\n",
      " 7   adress         1245 non-null   object\n",
      " 8   own_type       1245 non-null   object\n",
      " 9   base           1245 non-null   object\n",
      "dtypes: object(10)\n",
      "memory usage: 107.0+ KB\n"
     ]
    }
   ],
   "source": [
    "#Переименование столбцов. \n",
    "df.columns = ['premission_id',\n",
    "             'start',\n",
    "             'end',\n",
    "             'form', \n",
    "             'owner', \n",
    "             'type',\n",
    "             'size',\n",
    "             'adress', \n",
    "             'own_type', \n",
    "             'base']\n",
    "df.info()"
   ]
  },
  {
   "cell_type": "code",
   "execution_count": 5,
   "metadata": {},
   "outputs": [
    {
     "data": {
      "text/html": [
       "<div>\n",
       "<style scoped>\n",
       "    .dataframe tbody tr th:only-of-type {\n",
       "        vertical-align: middle;\n",
       "    }\n",
       "\n",
       "    .dataframe tbody tr th {\n",
       "        vertical-align: top;\n",
       "    }\n",
       "\n",
       "    .dataframe thead th {\n",
       "        text-align: right;\n",
       "    }\n",
       "</style>\n",
       "<table border=\"1\" class=\"dataframe\">\n",
       "  <thead>\n",
       "    <tr style=\"text-align: right;\">\n",
       "      <th></th>\n",
       "      <th>premission_id</th>\n",
       "      <th>start</th>\n",
       "      <th>end</th>\n",
       "      <th>form</th>\n",
       "      <th>owner</th>\n",
       "      <th>type</th>\n",
       "      <th>size</th>\n",
       "      <th>adress</th>\n",
       "      <th>own_type</th>\n",
       "      <th>base</th>\n",
       "    </tr>\n",
       "  </thead>\n",
       "  <tbody>\n",
       "    <tr>\n",
       "      <th>328</th>\n",
       "      <td>153-16</td>\n",
       "      <td>01.03.16</td>\n",
       "      <td>08.12.25</td>\n",
       "      <td>ООО</td>\n",
       "      <td>Пенза-Торг</td>\n",
       "      <td>Настенное панно</td>\n",
       "      <td>NaN</td>\n",
       "      <td>пр-кт Строителей, 21 А</td>\n",
       "      <td>Частная</td>\n",
       "      <td>ДСНИ</td>\n",
       "    </tr>\n",
       "    <tr>\n",
       "      <th>451</th>\n",
       "      <td>258-16</td>\n",
       "      <td>16.08.16</td>\n",
       "      <td>13.06.24</td>\n",
       "      <td>ООО</td>\n",
       "      <td>Центр спортивной медицины Бароком</td>\n",
       "      <td>Бегущая строка</td>\n",
       "      <td>NaN</td>\n",
       "      <td>пр-кт Победы, 69 а</td>\n",
       "      <td>Частная</td>\n",
       "      <td>ДСНИ</td>\n",
       "    </tr>\n",
       "    <tr>\n",
       "      <th>457</th>\n",
       "      <td>259-16</td>\n",
       "      <td>16.08.16</td>\n",
       "      <td>15.08.24</td>\n",
       "      <td>ФГБУ</td>\n",
       "      <td>РЭА ЦНТИ</td>\n",
       "      <td>Бегущая строка</td>\n",
       "      <td>NaN</td>\n",
       "      <td>ул. Ульяновская, 1</td>\n",
       "      <td>Частная</td>\n",
       "      <td>ДСНИ</td>\n",
       "    </tr>\n",
       "  </tbody>\n",
       "</table>\n",
       "</div>"
      ],
      "text/plain": [
       "    premission_id     start       end  form  \\\n",
       "328        153-16  01.03.16  08.12.25   ООО   \n",
       "451        258-16  16.08.16  13.06.24   ООО   \n",
       "457        259-16  16.08.16  15.08.24  ФГБУ   \n",
       "\n",
       "                                 owner             type size  \\\n",
       "328                         Пенза-Торг  Настенное панно  NaN   \n",
       "451  Центр спортивной медицины Бароком   Бегущая строка  NaN   \n",
       "457                           РЭА ЦНТИ   Бегущая строка  NaN   \n",
       "\n",
       "                     adress own_type  base  \n",
       "328  пр-кт Строителей, 21 А  Частная  ДСНИ  \n",
       "451      пр-кт Победы, 69 а  Частная  ДСНИ  \n",
       "457      ул. Ульяновская, 1  Частная  ДСНИ  "
      ]
     },
     "execution_count": 5,
     "metadata": {},
     "output_type": "execute_result"
    }
   ],
   "source": [
    "#Исследование пропусков в столбце 'Размер рекламной конструкции'. \n",
    "df[df['size'].isna()]"
   ]
  },
  {
   "cell_type": "code",
   "execution_count": 6,
   "metadata": {},
   "outputs": [
    {
     "name": "stdout",
     "output_type": "stream",
     "text": [
      "Популярный размер настенного панно: 2,5х5\n"
     ]
    }
   ],
   "source": [
    "#Замена пропущенных значений размера на популярный размер для соответствующих типов конструкции. \n",
    "mode_panno = df[df['type'] == 'Настенное панно']['size'].mode()[0]\n",
    "df[df['type'] == 'Настенное панно'] = df[df['type'] == 'Настенное панно'].fillna(mode_panno)\n",
    "print('Популярный размер настенного панно:', mode_panno)"
   ]
  },
  {
   "cell_type": "code",
   "execution_count": 7,
   "metadata": {},
   "outputs": [
    {
     "name": "stdout",
     "output_type": "stream",
     "text": [
      "Популярный размер бегущей строки: 0,48х1,6\n"
     ]
    }
   ],
   "source": [
    "mode_ticker = df[df['type'] == 'Бегущая строка']['size'].mode()[0]\n",
    "df[df['type'] == 'Бегущая строка'] = df[df['type'] == 'Бегущая строка'].fillna(mode_ticker)\n",
    "print('Популярный размер бегущей строки:', mode_ticker)"
   ]
  },
  {
   "cell_type": "code",
   "execution_count": 8,
   "metadata": {},
   "outputs": [
    {
     "name": "stdout",
     "output_type": "stream",
     "text": [
      "<class 'pandas.core.frame.DataFrame'>\n",
      "Int64Index: 1245 entries, 0 to 1247\n",
      "Data columns (total 10 columns):\n",
      " #   Column         Non-Null Count  Dtype \n",
      "---  ------         --------------  ----- \n",
      " 0   premission_id  1245 non-null   object\n",
      " 1   start          1245 non-null   object\n",
      " 2   end            1245 non-null   object\n",
      " 3   form           1245 non-null   object\n",
      " 4   owner          1245 non-null   object\n",
      " 5   type           1245 non-null   object\n",
      " 6   size           1245 non-null   object\n",
      " 7   adress         1245 non-null   object\n",
      " 8   own_type       1245 non-null   object\n",
      " 9   base           1245 non-null   object\n",
      "dtypes: object(10)\n",
      "memory usage: 107.0+ KB\n"
     ]
    }
   ],
   "source": [
    "df.info()"
   ]
  },
  {
   "cell_type": "markdown",
   "metadata": {},
   "source": [
    "<h3>Диапазоны значений данных. </h3>"
   ]
  },
  {
   "cell_type": "code",
   "execution_count": 9,
   "metadata": {},
   "outputs": [
    {
     "data": {
      "text/plain": [
       "ДСНИ      631\n",
       "77-16       2\n",
       "127-16      1\n",
       "116-16      1\n",
       "253-16      1\n",
       "         ... \n",
       "104-15      1\n",
       "103-16      1\n",
       "164-15      1\n",
       "19-16       1\n",
       "126-15      1\n",
       "Name: base, Length: 614, dtype: int64"
      ]
     },
     "execution_count": 9,
     "metadata": {},
     "output_type": "execute_result"
    }
   ],
   "source": [
    "df['base'].value_counts()"
   ]
  },
  {
   "cell_type": "code",
   "execution_count": 10,
   "metadata": {},
   "outputs": [
    {
     "data": {
      "text/plain": [
       "пр. Строителей, 1 В                                                               53\n",
       "ул. Калинина, 112 а                                                               33\n",
       "ул. Окружная, 27 В                                                                12\n",
       "ул. Володарского, 67                                                              10\n",
       "ул. Кирова, 73                                                                     9\n",
       "                                                                                  ..\n",
       "ул. Куйбышева, 23 (2)                                                              1\n",
       "ул. Терновского, 23                                                                1\n",
       "ул. Ставского, 10 (1)                                                              1\n",
       "пр. Строителей, 33 (1)                                                             1\n",
       "ул. Сурская, путепровод ближний к центру, направление в центр (правая сторона)     1\n",
       "Name: adress, Length: 889, dtype: int64"
      ]
     },
     "execution_count": 10,
     "metadata": {},
     "output_type": "execute_result"
    }
   ],
   "source": [
    "df['adress'].value_counts()"
   ]
  },
  {
   "cell_type": "code",
   "execution_count": 11,
   "metadata": {},
   "outputs": [
    {
     "data": {
      "text/plain": [
       "ООО                  684\n",
       "ФЛ                   259\n",
       "ИП                   207\n",
       "ЗАО                   46\n",
       "ОАО                   22\n",
       "АО                     8\n",
       "ПАО                    6\n",
       "МУП                    6\n",
       "АНО НОУ СПО КПИиЭ      3\n",
       "ФГБУ                   1\n",
       "ТС                     1\n",
       "АННМО                  1\n",
       "МАУ                    1\n",
       "Name: form, dtype: int64"
      ]
     },
     "execution_count": 11,
     "metadata": {},
     "output_type": "execute_result"
    }
   ],
   "source": [
    "df['form'].value_counts()"
   ]
  },
  {
   "cell_type": "markdown",
   "metadata": {},
   "source": [
    "<h3>Каковы размеры рекламных конструкций? </h3>"
   ]
  },
  {
   "cell_type": "code",
   "execution_count": 12,
   "metadata": {},
   "outputs": [
    {
     "data": {
      "text/plain": [
       "array(['3х6', '0,8х3', '3,4х6,9', '0,56х2,64', '1,8х3', '3х9', '0,6х20',\n",
       "       '2,88х5,76', '0,5х3', '0,75х14.3', '7,2х4,2', '3,5х2', '1,8х1,4',\n",
       "       '1,8х1,3', '7х2,9', '6х12', '5,5х3,8', '5,0х4,5', '4х16', '2х3',\n",
       "       '4,8х2,4', '7,2х0,6', '2,1х8,55', '3х36', '1х14', '2,5х7,5',\n",
       "       '2,5х5', '2х1', '3,3х6', '2,6х2', '2,9х0,7', '2,9х0,6', '8х3,6',\n",
       "       '1,8х1,2', '2х8', '3,5х0,95', '3,65х10,26', '3,65х6,71', '1,5х2,8',\n",
       "       '1,5х1,5', '3,73х3,2', '4х3', '1х3,1', '1,5х0,5', '3,6х4,4',\n",
       "       '0,9х1,5', '0,9х5', '0,9х6,5', '1,5х3,9', '1х16,5', '3,5х3,5',\n",
       "       '2,5х4,5', '3,5х10', '0,5х0,4', '1,5х6', '2х2', '1х10,3', '1х1,5',\n",
       "       '1,24х7,3', '1,8х2,8', '1,8х1,8', '2,55х4,2', '18х6', '19х7',\n",
       "       '1,8х5,15', '2,5х22', '2,5х40', '2х5', '2х24', '2х57', '2х45',\n",
       "       '4х6', '2,05х3,05', '2,5х12', '0,3х2,2', '3х3,4', '2,4х4,1',\n",
       "       '2,5х0,7', '0,4х3,0', '0,5х18', '4х3,5', '(3х6)х2', '2х5,4',\n",
       "       '(4х2)х1', '1,15х9,5', '1,5х22', '1,5х11', '1,6х1,6', '1,9х67',\n",
       "       '0,7х3,7', '0,4х5,2', '2,5х5,2', '2,2х0,4', '0,7х7,5', '0,4х2,5',\n",
       "       '1,9х27,5', '0,7х3,4', '1,9х40,8', '0,57х2,33', '(3х6)х1',\n",
       "       '(3х12)х', '3,5х4', '1х86', '1,5х14,92', '0,6х5,89', '2,4х13,2',\n",
       "       '(4х8)х', '(5,5х1,76)х2', '2,43х2,95', '(3х12)х1', '2,5х57',\n",
       "       '3,42х7,25', '3,42х7,35', '1,6х1,3', '2,5х9', '1,5х1', '3х3',\n",
       "       '2,8х4,1', '1,4х12', '0,7х3', '1,1х5,5', '3х11,5', '2х1,2',\n",
       "       '6,35х6,4', '2,4х3,2', '2х1,8', '2,5х1,5', '12,6х6', '0,24х2',\n",
       "       '1,84х3,3', '1,2х14', '1х17', '4,3х10,55', '(3х12)х2', '2,8х15',\n",
       "       '2,8х22', '6,7х7', '3,5х4,7', '4,95х6,9', '8х10', '2,9х8,65',\n",
       "       '0,37х5,46', '25х20', '5,904х12,88', '5,74х4,6', '1,5х4',\n",
       "       '(2,2х0,35)х2', '(1х0,8)х1', '(1,7х0,8)2', '(4,9х1,4)х2',\n",
       "       '(1,7х0,8)х2', '(3,7х1,3)х2', '(2,2х0,5)х1', '(6х2,1)х2', '(3х6)х',\n",
       "       '1,2х2,8', '0,8х12', '0,83х14,5', '0,83х18,7', '1,8х23',\n",
       "       '0,48х1,6', '(3,7х2,7)х1', '(3х1,5)х1', '1,12х7,04', '3х4',\n",
       "       '2,5х5,5', '0,8х1,6', '(3х6)х3', '4,05х9,15', '4,16х11,9',\n",
       "       '(1,8х1,2)х2', '1,7х10,2', '1,7х9', '2,08х37,06', '2х42',\n",
       "       '2,11х12,06', '1,4х9', '10х10', '10х4', '(1,75х0,6)х2', '15х5',\n",
       "       '1,2х5,3', '1х4', '5х14', '3х48,8', '(3х4)х1', '2х5,6', '3х3,8',\n",
       "       '1,59х11,93', '1,59х11,9', '1,5х19,5', '1,2х7', '1,3х6',\n",
       "       '0,75х0,75', '1,74х8', '1,52х7', '1,1х5', '(1х1)х1', '1,0х4,5',\n",
       "       '14,4х2,5', '(3х0,75)х2', '(2,5х2,5)х2', '18,8х23,7', '1х10',\n",
       "       '(1,2х0,8)х2', '(1х1,5)х2', '3,5х9', '0,7х3,9', '(0,85х0,85)х1',\n",
       "       '0,7х0,7', '(1,3х5)х1', '1х1', '8х1,74', '(1,5х1)х2', '0,63х2,23',\n",
       "       '6х4,2', '(1,5х1)х1', '1х9,2', '1,7х2', '1,1х17', '1,1х3',\n",
       "       '1,1х10,5', '1х1,2', '1,5х2,5', '0,6х14,4', '1,8х4,2', '1,8х13',\n",
       "       '0,37х1,6', '0,4х2,26', '3,6х2', '2,37х2,37', '6х1,3', '1,3х1,3',\n",
       "       '0,4х3,3', '0,9х3', '1,79х18,79', '1х2,96', '1х4,2', '1,45х0,95',\n",
       "       '1х8,1', '0,9х5,8', '1,1х4,3', '3,85х11,3', '1х5', '3х12',\n",
       "       '3,43х13,86', '4,02х9,92', '4,83х13,72', '2,56х3,4', '2,56х3,25',\n",
       "       '2,48х2,22', '(0,96х0,84)х2', '1,8х1', '1,3х8', '0,6х4,6',\n",
       "       '1,97х5,81', '10х7', '(2,7х3,7)х1', '2,16х4,242', '0,56х6,16',\n",
       "       '2х1,5', '0,5х12,6', '2х23,7', '1х6,1', '0,83х11,15', '1х3,65',\n",
       "       '1,25х8', '(3х2)х2', '6,37х3,7', '6,98х1,4', '1х9,25', '1х8',\n",
       "       '4,25х13,9', '(2,1х6)х2', '0,7х2,4', '3х4,58', '0,5х10,5',\n",
       "       '0,5х10', '0,6х7', '0,5х6', '0,5х4', '2х3,09', '4,8х3,6', '1х7',\n",
       "       '(3,1х4,6)х1', '3,3х2,2', '4,5х4', '6х4', '4х5', '3х3,77', '2х9',\n",
       "       '2х19', '3х3,57', '2х10', '2х7,62', '3х7,5', '2х5,5', '1х5,5',\n",
       "       '2х6', '2х23', '2х21', '1,2х5,5', '(1х1)х2', '(1,2х2,3)х1',\n",
       "       '1,3х7,5', '0,5х9', '0,5х0,5', '6х2', '2,2х3', '0,8х3,7',\n",
       "       '1,38х15', '5,9х3,8', '5,9х2,7', '1х12', '(1,2х1,8)х1', '7,2х4,8',\n",
       "       '1х8,2', '(1,25х0,75)х2', '6х3', '1,1х8,1', '1,65х5,75', '1,8х14',\n",
       "       '(4,8х1,18)х1', '(6х1,8)х2', '(4,5х1,8)х2', '1,19х5,6', '6х3,2',\n",
       "       '2,06х10,06', '0,8х4,2', '4,8х10,56', '(4,8х2)х2', '(3х2,1)х2'],\n",
       "      dtype=object)"
      ]
     },
     "execution_count": 12,
     "metadata": {},
     "output_type": "execute_result"
    }
   ],
   "source": [
    "df['size'].unique()"
   ]
  },
  {
   "cell_type": "code",
   "execution_count": 13,
   "metadata": {},
   "outputs": [],
   "source": [
    "def area_size(s):\n",
    "    s_list = s.replace('(', '').replace(')', '').replace(',', '.').split('х')    \n",
    "    i = 1\n",
    "    for l in s_list:\n",
    "        \n",
    "        if l != '':\n",
    "            i = i*float(l)\n",
    "    return i"
   ]
  },
  {
   "cell_type": "code",
   "execution_count": 14,
   "metadata": {},
   "outputs": [],
   "source": [
    "df['size'] = df['size'].apply(area_size)"
   ]
  },
  {
   "cell_type": "code",
   "execution_count": 15,
   "metadata": {},
   "outputs": [
    {
     "name": "stdout",
     "output_type": "stream",
     "text": [
      "<class 'pandas.core.frame.DataFrame'>\n",
      "Int64Index: 1245 entries, 0 to 1247\n",
      "Data columns (total 10 columns):\n",
      " #   Column         Non-Null Count  Dtype  \n",
      "---  ------         --------------  -----  \n",
      " 0   premission_id  1245 non-null   object \n",
      " 1   start          1245 non-null   object \n",
      " 2   end            1245 non-null   object \n",
      " 3   form           1245 non-null   object \n",
      " 4   owner          1245 non-null   object \n",
      " 5   type           1245 non-null   object \n",
      " 6   size           1245 non-null   float64\n",
      " 7   adress         1245 non-null   object \n",
      " 8   own_type       1245 non-null   object \n",
      " 9   base           1245 non-null   object \n",
      "dtypes: float64(1), object(9)\n",
      "memory usage: 107.0+ KB\n"
     ]
    }
   ],
   "source": [
    "df.info()"
   ]
  },
  {
   "cell_type": "code",
   "execution_count": 16,
   "metadata": {},
   "outputs": [
    {
     "data": {
      "image/png": "[encoded data removed]",
      "text/plain": [
       "<Figure size 432x288 with 1 Axes>"
      ]
     },
     "metadata": {
      "needs_background": "light"
     },
     "output_type": "display_data"
    }
   ],
   "source": [
    "df['size'].hist(bins = 100);"
   ]
  },
  {
   "cell_type": "code",
   "execution_count": 17,
   "metadata": {},
   "outputs": [
    {
     "data": {
      "text/html": [
       "<div>\n",
       "<style scoped>\n",
       "    .dataframe tbody tr th:only-of-type {\n",
       "        vertical-align: middle;\n",
       "    }\n",
       "\n",
       "    .dataframe tbody tr th {\n",
       "        vertical-align: top;\n",
       "    }\n",
       "\n",
       "    .dataframe thead th {\n",
       "        text-align: right;\n",
       "    }\n",
       "</style>\n",
       "<table border=\"1\" class=\"dataframe\">\n",
       "  <thead>\n",
       "    <tr style=\"text-align: right;\">\n",
       "      <th></th>\n",
       "      <th>premission_id</th>\n",
       "      <th>start</th>\n",
       "      <th>end</th>\n",
       "      <th>form</th>\n",
       "      <th>owner</th>\n",
       "      <th>type</th>\n",
       "      <th>size</th>\n",
       "      <th>adress</th>\n",
       "      <th>own_type</th>\n",
       "      <th>base</th>\n",
       "    </tr>\n",
       "  </thead>\n",
       "  <tbody>\n",
       "    <tr>\n",
       "      <th>796</th>\n",
       "      <td>246-17</td>\n",
       "      <td>01.08.17</td>\n",
       "      <td>31.12.23</td>\n",
       "      <td>АО</td>\n",
       "      <td>БКС-Инвестиционный Банк</td>\n",
       "      <td>Настенное панно</td>\n",
       "      <td>8.1</td>\n",
       "      <td>ул. М. Горького, 24</td>\n",
       "      <td>Частная</td>\n",
       "      <td>ДСНИ</td>\n",
       "    </tr>\n",
       "  </tbody>\n",
       "</table>\n",
       "</div>"
      ],
      "text/plain": [
       "    premission_id     start       end form                    owner  \\\n",
       "796        246-17  01.08.17  31.12.23   АО  БКС-Инвестиционный Банк   \n",
       "\n",
       "                type  size               adress own_type  base  \n",
       "796  Настенное панно   8.1  ул. М. Горького, 24  Частная  ДСНИ  "
      ]
     },
     "execution_count": 17,
     "metadata": {},
     "output_type": "execute_result"
    }
   ],
   "source": [
    "df[df['premission_id'].duplicated()]"
   ]
  },
  {
   "cell_type": "code",
   "execution_count": 18,
   "metadata": {},
   "outputs": [
    {
     "data": {
      "text/html": [
       "<div>\n",
       "<style scoped>\n",
       "    .dataframe tbody tr th:only-of-type {\n",
       "        vertical-align: middle;\n",
       "    }\n",
       "\n",
       "    .dataframe tbody tr th {\n",
       "        vertical-align: top;\n",
       "    }\n",
       "\n",
       "    .dataframe thead th {\n",
       "        text-align: right;\n",
       "    }\n",
       "</style>\n",
       "<table border=\"1\" class=\"dataframe\">\n",
       "  <thead>\n",
       "    <tr style=\"text-align: right;\">\n",
       "      <th></th>\n",
       "      <th>premission_id</th>\n",
       "      <th>start</th>\n",
       "      <th>end</th>\n",
       "      <th>form</th>\n",
       "      <th>owner</th>\n",
       "      <th>type</th>\n",
       "      <th>size</th>\n",
       "      <th>adress</th>\n",
       "      <th>own_type</th>\n",
       "      <th>base</th>\n",
       "    </tr>\n",
       "  </thead>\n",
       "  <tbody>\n",
       "    <tr>\n",
       "      <th>405</th>\n",
       "      <td>246-17</td>\n",
       "      <td>15.07.16</td>\n",
       "      <td>14.07.26</td>\n",
       "      <td>ИП</td>\n",
       "      <td>Невзорова Маргарита Владимировна</td>\n",
       "      <td>Настенное панно</td>\n",
       "      <td>16.45</td>\n",
       "      <td>ул. Центральная, 18</td>\n",
       "      <td>Частная</td>\n",
       "      <td>ДСНИ</td>\n",
       "    </tr>\n",
       "    <tr>\n",
       "      <th>796</th>\n",
       "      <td>246-17</td>\n",
       "      <td>01.08.17</td>\n",
       "      <td>31.12.23</td>\n",
       "      <td>АО</td>\n",
       "      <td>БКС-Инвестиционный Банк</td>\n",
       "      <td>Настенное панно</td>\n",
       "      <td>8.10</td>\n",
       "      <td>ул. М. Горького, 24</td>\n",
       "      <td>Частная</td>\n",
       "      <td>ДСНИ</td>\n",
       "    </tr>\n",
       "  </tbody>\n",
       "</table>\n",
       "</div>"
      ],
      "text/plain": [
       "    premission_id     start       end form                             owner  \\\n",
       "405        246-17  15.07.16  14.07.26   ИП  Невзорова Маргарита Владимировна   \n",
       "796        246-17  01.08.17  31.12.23   АО           БКС-Инвестиционный Банк   \n",
       "\n",
       "                type   size               adress own_type  base  \n",
       "405  Настенное панно  16.45  ул. Центральная, 18  Частная  ДСНИ  \n",
       "796  Настенное панно   8.10  ул. М. Горького, 24  Частная  ДСНИ  "
      ]
     },
     "execution_count": 18,
     "metadata": {},
     "output_type": "execute_result"
    }
   ],
   "source": [
    "df[df['premission_id'] == \"246-17\"]"
   ]
  },
  {
   "cell_type": "code",
   "execution_count": 19,
   "metadata": {},
   "outputs": [],
   "source": [
    "df = df.drop_duplicates(subset = 'premission_id')"
   ]
  },
  {
   "cell_type": "code",
   "execution_count": 20,
   "metadata": {},
   "outputs": [
    {
     "name": "stdout",
     "output_type": "stream",
     "text": [
      "Размер таблицы после удаления строк: 1244\n"
     ]
    }
   ],
   "source": [
    "print('Размер таблицы после удаления строк:', df.shape[0])"
   ]
  },
  {
   "cell_type": "markdown",
   "metadata": {},
   "source": [
    "<b>Выводы из предобработки:</b> Данные успешно получены. В данных обнаружены дубликаты строк (3), пропуски в столбце 'size' (3). Столбцы с датой содержат нечитаемые значения. Некорректные написания размера конструкции, заканчивающиеся на знак 'х', без одного множителя (например, '(3х12)х')"
   ]
  },
  {
   "cell_type": "markdown",
   "metadata": {},
   "source": [
    "<h3>Топ-10 владельцев конструкций. </h3>"
   ]
  },
  {
   "cell_type": "code",
   "execution_count": 21,
   "metadata": {},
   "outputs": [
    {
     "data": {
      "image/png": "[encoded data removed]",
      "text/plain": [
       "<Figure size 432x288 with 1 Axes>"
      ]
     },
     "metadata": {
      "needs_background": "light"
     },
     "output_type": "display_data"
    }
   ],
   "source": [
    "df['owner'].value_counts().head(10).plot(kind = 'bar', grid = True)\n",
    "plt.title('Топ-10 владельцев конструкций')\n",
    "plt.ylabel('Количество конструкций');"
   ]
  },
  {
   "cell_type": "markdown",
   "metadata": {},
   "source": [
    "<h3>Топ-10 популярных улиц. </h3>"
   ]
  },
  {
   "cell_type": "code",
   "execution_count": 22,
   "metadata": {},
   "outputs": [
    {
     "data": {
      "image/png": "[encoded data removed]",
      "text/plain": [
       "<Figure size 432x288 with 1 Axes>"
      ]
     },
     "metadata": {
      "needs_background": "light"
     },
     "output_type": "display_data"
    }
   ],
   "source": [
    "top10_street = df['adress'].apply(lambda x: x.split(',')[0]).value_counts().head(10)\n",
    "top10_street.plot(kind = 'bar', grid = True)\n",
    "plt.title('Топ-10 улиц для установки рекламы')\n",
    "plt.ylabel('Количество конструкций'); "
   ]
  },
  {
   "cell_type": "code",
   "execution_count": 23,
   "metadata": {},
   "outputs": [],
   "source": [
    "df_filtered = df[df['start'].apply(lambda x: not x.isdigit())].copy()"
   ]
  },
  {
   "cell_type": "code",
   "execution_count": 24,
   "metadata": {},
   "outputs": [
    {
     "name": "stdout",
     "output_type": "stream",
     "text": [
      "Размер таблицы с корректными значениями даты: 1125\n"
     ]
    }
   ],
   "source": [
    "print('Размер таблицы с корректными значениями даты:', df_filtered.shape[0])"
   ]
  },
  {
   "cell_type": "code",
   "execution_count": 25,
   "metadata": {},
   "outputs": [
    {
     "name": "stdout",
     "output_type": "stream",
     "text": [
      "Количество строк с некорректными значениями даты: 119\n"
     ]
    }
   ],
   "source": [
    "print('Количество строк с некорректными значениями даты:', df.shape[0] - df_filtered.shape[0])"
   ]
  },
  {
   "cell_type": "code",
   "execution_count": 26,
   "metadata": {},
   "outputs": [
    {
     "data": {
      "text/plain": [
       "0"
      ]
     },
     "execution_count": 26,
     "metadata": {},
     "output_type": "execute_result"
    }
   ],
   "source": [
    "#Проверка значений в столбце 'end'.\n",
    "df_filtered['end'].apply(lambda x: x.isdigit()).sum()"
   ]
  },
  {
   "cell_type": "code",
   "execution_count": 27,
   "metadata": {},
   "outputs": [],
   "source": [
    "df_filtered['start'] = pd.to_datetime(df_filtered['start'])\n",
    "df_filtered['end'] = pd.to_datetime(df_filtered['end'])"
   ]
  },
  {
   "cell_type": "code",
   "execution_count": 28,
   "metadata": {},
   "outputs": [
    {
     "name": "stdout",
     "output_type": "stream",
     "text": [
      "<class 'pandas.core.frame.DataFrame'>\n",
      "Int64Index: 1125 entries, 119 to 1247\n",
      "Data columns (total 10 columns):\n",
      " #   Column         Non-Null Count  Dtype         \n",
      "---  ------         --------------  -----         \n",
      " 0   premission_id  1125 non-null   object        \n",
      " 1   start          1125 non-null   datetime64[ns]\n",
      " 2   end            1125 non-null   datetime64[ns]\n",
      " 3   form           1125 non-null   object        \n",
      " 4   owner          1125 non-null   object        \n",
      " 5   type           1125 non-null   object        \n",
      " 6   size           1125 non-null   float64       \n",
      " 7   adress         1125 non-null   object        \n",
      " 8   own_type       1125 non-null   object        \n",
      " 9   base           1125 non-null   object        \n",
      "dtypes: datetime64[ns](2), float64(1), object(7)\n",
      "memory usage: 96.7+ KB\n"
     ]
    }
   ],
   "source": [
    "df_filtered.info()"
   ]
  },
  {
   "cell_type": "code",
   "execution_count": 29,
   "metadata": {},
   "outputs": [],
   "source": [
    "df_filtered['duration'] = df_filtered['end'] - df_filtered['start']"
   ]
  },
  {
   "cell_type": "code",
   "execution_count": 30,
   "metadata": {},
   "outputs": [],
   "source": [
    "df_filtered = df_filtered.query('start < end')"
   ]
  },
  {
   "cell_type": "code",
   "execution_count": 31,
   "metadata": {},
   "outputs": [
    {
     "data": {
      "text/plain": [
       "count                         1120\n",
       "mean     2873 days 03:28:17.142857\n",
       "std       642 days 11:38:32.970662\n",
       "min              362 days 00:00:00\n",
       "25%             2643 days 00:00:00\n",
       "50%             2761 days 00:00:00\n",
       "75%             3622 days 00:00:00\n",
       "max             3967 days 00:00:00\n",
       "Name: duration, dtype: object"
      ]
     },
     "execution_count": 31,
     "metadata": {},
     "output_type": "execute_result"
    }
   ],
   "source": [
    "df_filtered['duration'].describe()"
   ]
  },
  {
   "cell_type": "code",
   "execution_count": 32,
   "metadata": {},
   "outputs": [
    {
     "data": {
      "text/plain": [
       "1120"
      ]
     },
     "execution_count": 32,
     "metadata": {},
     "output_type": "execute_result"
    }
   ],
   "source": [
    "df_filtered.shape[0]"
   ]
  },
  {
   "cell_type": "code",
   "execution_count": 33,
   "metadata": {},
   "outputs": [
    {
     "data": {
      "image/png": "[encoded data removed]",
      "text/plain": [
       "<Figure size 432x288 with 1 Axes>"
      ]
     },
     "metadata": {
      "needs_background": "light"
     },
     "output_type": "display_data"
    }
   ],
   "source": [
    "sns.scatterplot(x = df_filtered['duration'].dt.days, y = df_filtered['size'], alpha = 0.5)\n",
    "plt.grid(True)"
   ]
  },
  {
   "cell_type": "code",
   "execution_count": 34,
   "metadata": {},
   "outputs": [
    {
     "name": "stdout",
     "output_type": "stream",
     "text": [
      "Корреляция размера конструкции с длительностью разрешения: 0.72%\n"
     ]
    }
   ],
   "source": [
    "print('Корреляция размера конструкции с длительностью разрешения: {:.2%}'.format( df_filtered['duration'].dt.days.corr(df_filtered['size'])))"
   ]
  },
  {
   "cell_type": "code",
   "execution_count": 35,
   "metadata": {},
   "outputs": [
    {
     "data": {
      "text/plain": [
       "отдельно стоящая щитовая конструкция                        593\n",
       "настенное панно                                             272\n",
       "панель - кронштейн                                           76\n",
       "световой короб                                               41\n",
       "настенное панно (бесфоновая конструкция)                     41\n",
       "крышная установка                                            28\n",
       "пилон                                                        25\n",
       "стела                                                        24\n",
       "призмадинамическая конструкция                               24\n",
       "электронный экран                                            14\n",
       "настенное панно (световой короб)                             12\n",
       "электронное табло (бегущая строка)                           10\n",
       "объемно-световые буквы                                        8\n",
       "модульная конструкция                                         8\n",
       "бесфоновая конструкция с объемно-световыми буквами            7\n",
       "панно                                                         5\n",
       "панель-кронштейн                                              5\n",
       "бегущая строка                                                4\n",
       "электронный экран (панно)                                     3\n",
       "настенное панно (световй короб)                               3\n",
       "маркиза                                                       3\n",
       "объемно-световой логотип                                      3\n",
       "электронный экран (бегущая строка)                            2\n",
       "модульная конструкция (настенное панно)                       2\n",
       "настенное панно (эл. экран)                                   2\n",
       "флаговая композиция                                           2\n",
       "сити-формат                                                   2\n",
       "бегущая строка (электронный экран)                            2\n",
       "настенное панно (модульная конструкция)                       2\n",
       "объемно-пространственная конструкция - настенная вывеска      1\n",
       "светодиодный экран                                            1\n",
       "отдельно стоящая конструкция - ситиборд                       1\n",
       "отдельно стоящая стела                                        1\n",
       "кронштейн-световой короб                                      1\n",
       "сити-роллер                                                   1\n",
       "бесфоновая конструкция                                        1\n",
       "настенное панно (объемные световые буквы)                     1\n",
       "ситиборд                                                      1\n",
       "настенное панно (маркиза)                                     1\n",
       "сити-формат (стела)                                           1\n",
       "входная группа                                                1\n",
       "пилон (видеоэкран)                                            1\n",
       "крышная установка (световой короб)                            1\n",
       "настенное панно - электронный экран                           1\n",
       "модульная конструкция (нстенное панно)                        1\n",
       "объемный световой доготип                                     1\n",
       "отдельно стоящий электронный экран                            1\n",
       "светодиодный экранстационарныйнастенныйполноцветный           1\n",
       "баннерная конструкция                                         1\n",
       "кронштейн (световой короб)                                    1\n",
       "Name: type, dtype: int64"
      ]
     },
     "execution_count": 35,
     "metadata": {},
     "output_type": "execute_result"
    }
   ],
   "source": [
    "df['type'] = df['type'].apply(lambda x: x.lower())\n",
    "df['type'].value_counts()"
   ]
  },
  {
   "cell_type": "code",
   "execution_count": 36,
   "metadata": {},
   "outputs": [],
   "source": [
    "#Замена значений 'type' на более простые. \n",
    "short_list = ('панно', 'экран', 'короб', 'кронштейн', 'конструкция', 'установка', 'другое')\n",
    "def replace_type(text):\n",
    "    if 'панно' in text: \n",
    "        return 'панно'\n",
    "    elif 'экран' in text:\n",
    "        return 'экран'\n",
    "    elif 'короб' in text:\n",
    "        return 'короб'\n",
    "    elif 'кронштейн' in text:\n",
    "        return 'кронштейн'\n",
    "    elif 'конструкция' in text:\n",
    "        return 'конструкция'\n",
    "    elif 'установка' in text:\n",
    "        return 'установка'\n",
    "    else:\n",
    "        return 'другое'"
   ]
  },
  {
   "cell_type": "code",
   "execution_count": 37,
   "metadata": {},
   "outputs": [],
   "source": [
    "df['short_type'] = df['type'].apply(replace_type)"
   ]
  },
  {
   "cell_type": "code",
   "execution_count": 38,
   "metadata": {},
   "outputs": [
    {
     "data": {
      "text/html": [
       "<div>\n",
       "<style scoped>\n",
       "    .dataframe tbody tr th:only-of-type {\n",
       "        vertical-align: middle;\n",
       "    }\n",
       "\n",
       "    .dataframe tbody tr th {\n",
       "        vertical-align: top;\n",
       "    }\n",
       "\n",
       "    .dataframe thead th {\n",
       "        text-align: right;\n",
       "    }\n",
       "</style>\n",
       "<table border=\"1\" class=\"dataframe\">\n",
       "  <thead>\n",
       "    <tr style=\"text-align: right;\">\n",
       "      <th>short_type</th>\n",
       "      <th>другое</th>\n",
       "      <th>конструкция</th>\n",
       "      <th>короб</th>\n",
       "      <th>кронштейн</th>\n",
       "      <th>панно</th>\n",
       "      <th>установка</th>\n",
       "      <th>экран</th>\n",
       "    </tr>\n",
       "    <tr>\n",
       "      <th>form</th>\n",
       "      <th></th>\n",
       "      <th></th>\n",
       "      <th></th>\n",
       "      <th></th>\n",
       "      <th></th>\n",
       "      <th></th>\n",
       "      <th></th>\n",
       "    </tr>\n",
       "  </thead>\n",
       "  <tbody>\n",
       "    <tr>\n",
       "      <th>АННМО</th>\n",
       "      <td>NaN</td>\n",
       "      <td>1.0</td>\n",
       "      <td>NaN</td>\n",
       "      <td>NaN</td>\n",
       "      <td>NaN</td>\n",
       "      <td>NaN</td>\n",
       "      <td>NaN</td>\n",
       "    </tr>\n",
       "    <tr>\n",
       "      <th>АНО НОУ СПО КПИиЭ</th>\n",
       "      <td>NaN</td>\n",
       "      <td>NaN</td>\n",
       "      <td>NaN</td>\n",
       "      <td>1.0</td>\n",
       "      <td>2.0</td>\n",
       "      <td>NaN</td>\n",
       "      <td>NaN</td>\n",
       "    </tr>\n",
       "    <tr>\n",
       "      <th>АО</th>\n",
       "      <td>1.0</td>\n",
       "      <td>1.0</td>\n",
       "      <td>NaN</td>\n",
       "      <td>1.0</td>\n",
       "      <td>3.0</td>\n",
       "      <td>NaN</td>\n",
       "      <td>1.0</td>\n",
       "    </tr>\n",
       "    <tr>\n",
       "      <th>ЗАО</th>\n",
       "      <td>1.0</td>\n",
       "      <td>NaN</td>\n",
       "      <td>NaN</td>\n",
       "      <td>NaN</td>\n",
       "      <td>43.0</td>\n",
       "      <td>2.0</td>\n",
       "      <td>NaN</td>\n",
       "    </tr>\n",
       "    <tr>\n",
       "      <th>ИП</th>\n",
       "      <td>16.0</td>\n",
       "      <td>73.0</td>\n",
       "      <td>17.0</td>\n",
       "      <td>21.0</td>\n",
       "      <td>71.0</td>\n",
       "      <td>2.0</td>\n",
       "      <td>7.0</td>\n",
       "    </tr>\n",
       "    <tr>\n",
       "      <th>МАУ</th>\n",
       "      <td>NaN</td>\n",
       "      <td>NaN</td>\n",
       "      <td>NaN</td>\n",
       "      <td>NaN</td>\n",
       "      <td>1.0</td>\n",
       "      <td>NaN</td>\n",
       "      <td>NaN</td>\n",
       "    </tr>\n",
       "    <tr>\n",
       "      <th>МУП</th>\n",
       "      <td>NaN</td>\n",
       "      <td>2.0</td>\n",
       "      <td>NaN</td>\n",
       "      <td>4.0</td>\n",
       "      <td>NaN</td>\n",
       "      <td>NaN</td>\n",
       "      <td>NaN</td>\n",
       "    </tr>\n",
       "    <tr>\n",
       "      <th>ОАО</th>\n",
       "      <td>3.0</td>\n",
       "      <td>6.0</td>\n",
       "      <td>NaN</td>\n",
       "      <td>1.0</td>\n",
       "      <td>11.0</td>\n",
       "      <td>1.0</td>\n",
       "      <td>NaN</td>\n",
       "    </tr>\n",
       "    <tr>\n",
       "      <th>ООО</th>\n",
       "      <td>57.0</td>\n",
       "      <td>368.0</td>\n",
       "      <td>18.0</td>\n",
       "      <td>49.0</td>\n",
       "      <td>167.0</td>\n",
       "      <td>16.0</td>\n",
       "      <td>9.0</td>\n",
       "    </tr>\n",
       "    <tr>\n",
       "      <th>ПАО</th>\n",
       "      <td>NaN</td>\n",
       "      <td>NaN</td>\n",
       "      <td>NaN</td>\n",
       "      <td>1.0</td>\n",
       "      <td>4.0</td>\n",
       "      <td>1.0</td>\n",
       "      <td>NaN</td>\n",
       "    </tr>\n",
       "    <tr>\n",
       "      <th>ТС</th>\n",
       "      <td>NaN</td>\n",
       "      <td>1.0</td>\n",
       "      <td>NaN</td>\n",
       "      <td>NaN</td>\n",
       "      <td>NaN</td>\n",
       "      <td>NaN</td>\n",
       "      <td>NaN</td>\n",
       "    </tr>\n",
       "    <tr>\n",
       "      <th>ФГБУ</th>\n",
       "      <td>1.0</td>\n",
       "      <td>NaN</td>\n",
       "      <td>NaN</td>\n",
       "      <td>NaN</td>\n",
       "      <td>NaN</td>\n",
       "      <td>NaN</td>\n",
       "      <td>NaN</td>\n",
       "    </tr>\n",
       "    <tr>\n",
       "      <th>ФЛ</th>\n",
       "      <td>8.0</td>\n",
       "      <td>184.0</td>\n",
       "      <td>9.0</td>\n",
       "      <td>3.0</td>\n",
       "      <td>44.0</td>\n",
       "      <td>6.0</td>\n",
       "      <td>5.0</td>\n",
       "    </tr>\n",
       "  </tbody>\n",
       "</table>\n",
       "</div>"
      ],
      "text/plain": [
       "short_type         другое  конструкция  короб  кронштейн  панно  установка  \\\n",
       "form                                                                         \n",
       "АННМО                 NaN          1.0    NaN        NaN    NaN        NaN   \n",
       "АНО НОУ СПО КПИиЭ     NaN          NaN    NaN        1.0    2.0        NaN   \n",
       "АО                    1.0          1.0    NaN        1.0    3.0        NaN   \n",
       "ЗАО                   1.0          NaN    NaN        NaN   43.0        2.0   \n",
       "ИП                   16.0         73.0   17.0       21.0   71.0        2.0   \n",
       "МАУ                   NaN          NaN    NaN        NaN    1.0        NaN   \n",
       "МУП                   NaN          2.0    NaN        4.0    NaN        NaN   \n",
       "ОАО                   3.0          6.0    NaN        1.0   11.0        1.0   \n",
       "ООО                  57.0        368.0   18.0       49.0  167.0       16.0   \n",
       "ПАО                   NaN          NaN    NaN        1.0    4.0        1.0   \n",
       "ТС                    NaN          1.0    NaN        NaN    NaN        NaN   \n",
       "ФГБУ                  1.0          NaN    NaN        NaN    NaN        NaN   \n",
       "ФЛ                    8.0        184.0    9.0        3.0   44.0        6.0   \n",
       "\n",
       "short_type         экран  \n",
       "form                      \n",
       "АННМО                NaN  \n",
       "АНО НОУ СПО КПИиЭ    NaN  \n",
       "АО                   1.0  \n",
       "ЗАО                  NaN  \n",
       "ИП                   7.0  \n",
       "МАУ                  NaN  \n",
       "МУП                  NaN  \n",
       "ОАО                  NaN  \n",
       "ООО                  9.0  \n",
       "ПАО                  NaN  \n",
       "ТС                   NaN  \n",
       "ФГБУ                 NaN  \n",
       "ФЛ                   5.0  "
      ]
     },
     "execution_count": 38,
     "metadata": {},
     "output_type": "execute_result"
    }
   ],
   "source": [
    "form_type = df.pivot_table(index = 'form', columns = 'short_type', values = 'premission_id', aggfunc = 'count')\n",
    "form_type"
   ]
  },
  {
   "cell_type": "code",
   "execution_count": 39,
   "metadata": {},
   "outputs": [
    {
     "data": {
      "text/plain": [
       "0    конструкция\n",
       "1          панно\n",
       "2         другое\n",
       "3      кронштейн\n",
       "4          короб\n",
       "5      установка\n",
       "6          экран\n",
       "Name: index, dtype: object"
      ]
     },
     "execution_count": 39,
     "metadata": {},
     "output_type": "execute_result"
    }
   ],
   "source": [
    "#Сортировка типов рекламных конструкций по популярности. \n",
    "type_sort = df['short_type'].value_counts().reset_index()['index']\n",
    "type_sort"
   ]
  },
  {
   "cell_type": "code",
   "execution_count": 40,
   "metadata": {},
   "outputs": [
    {
     "data": {
      "text/html": [
       "<div>\n",
       "<style scoped>\n",
       "    .dataframe tbody tr th:only-of-type {\n",
       "        vertical-align: middle;\n",
       "    }\n",
       "\n",
       "    .dataframe tbody tr th {\n",
       "        vertical-align: top;\n",
       "    }\n",
       "\n",
       "    .dataframe thead th {\n",
       "        text-align: right;\n",
       "    }\n",
       "</style>\n",
       "<table border=\"1\" class=\"dataframe\">\n",
       "  <thead>\n",
       "    <tr style=\"text-align: right;\">\n",
       "      <th></th>\n",
       "      <th>level_0</th>\n",
       "      <th>index</th>\n",
       "    </tr>\n",
       "  </thead>\n",
       "  <tbody>\n",
       "    <tr>\n",
       "      <th>0</th>\n",
       "      <td>0</td>\n",
       "      <td>ООО</td>\n",
       "    </tr>\n",
       "    <tr>\n",
       "      <th>1</th>\n",
       "      <td>1</td>\n",
       "      <td>ФЛ</td>\n",
       "    </tr>\n",
       "    <tr>\n",
       "      <th>2</th>\n",
       "      <td>2</td>\n",
       "      <td>ИП</td>\n",
       "    </tr>\n",
       "    <tr>\n",
       "      <th>3</th>\n",
       "      <td>3</td>\n",
       "      <td>ЗАО</td>\n",
       "    </tr>\n",
       "    <tr>\n",
       "      <th>4</th>\n",
       "      <td>4</td>\n",
       "      <td>ОАО</td>\n",
       "    </tr>\n",
       "    <tr>\n",
       "      <th>5</th>\n",
       "      <td>5</td>\n",
       "      <td>АО</td>\n",
       "    </tr>\n",
       "    <tr>\n",
       "      <th>6</th>\n",
       "      <td>6</td>\n",
       "      <td>ПАО</td>\n",
       "    </tr>\n",
       "    <tr>\n",
       "      <th>7</th>\n",
       "      <td>7</td>\n",
       "      <td>МУП</td>\n",
       "    </tr>\n",
       "    <tr>\n",
       "      <th>8</th>\n",
       "      <td>8</td>\n",
       "      <td>АНО НОУ СПО КПИиЭ</td>\n",
       "    </tr>\n",
       "    <tr>\n",
       "      <th>9</th>\n",
       "      <td>9</td>\n",
       "      <td>ФГБУ</td>\n",
       "    </tr>\n",
       "    <tr>\n",
       "      <th>10</th>\n",
       "      <td>10</td>\n",
       "      <td>ТС</td>\n",
       "    </tr>\n",
       "    <tr>\n",
       "      <th>11</th>\n",
       "      <td>11</td>\n",
       "      <td>АННМО</td>\n",
       "    </tr>\n",
       "    <tr>\n",
       "      <th>12</th>\n",
       "      <td>12</td>\n",
       "      <td>МАУ</td>\n",
       "    </tr>\n",
       "  </tbody>\n",
       "</table>\n",
       "</div>"
      ],
      "text/plain": [
       "    level_0              index\n",
       "0         0                ООО\n",
       "1         1                 ФЛ\n",
       "2         2                 ИП\n",
       "3         3                ЗАО\n",
       "4         4                ОАО\n",
       "5         5                 АО\n",
       "6         6                ПАО\n",
       "7         7                МУП\n",
       "8         8  АНО НОУ СПО КПИиЭ\n",
       "9         9               ФГБУ\n",
       "10       10                 ТС\n",
       "11       11              АННМО\n",
       "12       12                МАУ"
      ]
     },
     "execution_count": 40,
     "metadata": {},
     "output_type": "execute_result"
    }
   ],
   "source": [
    "#Сортировка организационно-правовых форм по популярности. \n",
    "form_sort = df['form'].value_counts().reset_index()['index'].reset_index()\n",
    "form_sort"
   ]
  },
  {
   "cell_type": "code",
   "execution_count": 41,
   "metadata": {},
   "outputs": [
    {
     "data": {
      "text/html": [
       "<div>\n",
       "<style scoped>\n",
       "    .dataframe tbody tr th:only-of-type {\n",
       "        vertical-align: middle;\n",
       "    }\n",
       "\n",
       "    .dataframe tbody tr th {\n",
       "        vertical-align: top;\n",
       "    }\n",
       "\n",
       "    .dataframe thead th {\n",
       "        text-align: right;\n",
       "    }\n",
       "</style>\n",
       "<table border=\"1\" class=\"dataframe\">\n",
       "  <thead>\n",
       "    <tr style=\"text-align: right;\">\n",
       "      <th>short_type</th>\n",
       "      <th>form</th>\n",
       "      <th>конструкция</th>\n",
       "      <th>панно</th>\n",
       "      <th>другое</th>\n",
       "      <th>кронштейн</th>\n",
       "      <th>короб</th>\n",
       "      <th>установка</th>\n",
       "      <th>экран</th>\n",
       "    </tr>\n",
       "  </thead>\n",
       "  <tbody>\n",
       "    <tr>\n",
       "      <th>0</th>\n",
       "      <td>АННМО</td>\n",
       "      <td>1.0</td>\n",
       "      <td>NaN</td>\n",
       "      <td>NaN</td>\n",
       "      <td>NaN</td>\n",
       "      <td>NaN</td>\n",
       "      <td>NaN</td>\n",
       "      <td>NaN</td>\n",
       "    </tr>\n",
       "    <tr>\n",
       "      <th>1</th>\n",
       "      <td>АНО НОУ СПО КПИиЭ</td>\n",
       "      <td>NaN</td>\n",
       "      <td>2.0</td>\n",
       "      <td>NaN</td>\n",
       "      <td>1.0</td>\n",
       "      <td>NaN</td>\n",
       "      <td>NaN</td>\n",
       "      <td>NaN</td>\n",
       "    </tr>\n",
       "    <tr>\n",
       "      <th>2</th>\n",
       "      <td>АО</td>\n",
       "      <td>1.0</td>\n",
       "      <td>3.0</td>\n",
       "      <td>1.0</td>\n",
       "      <td>1.0</td>\n",
       "      <td>NaN</td>\n",
       "      <td>NaN</td>\n",
       "      <td>1.0</td>\n",
       "    </tr>\n",
       "    <tr>\n",
       "      <th>3</th>\n",
       "      <td>ЗАО</td>\n",
       "      <td>NaN</td>\n",
       "      <td>43.0</td>\n",
       "      <td>1.0</td>\n",
       "      <td>NaN</td>\n",
       "      <td>NaN</td>\n",
       "      <td>2.0</td>\n",
       "      <td>NaN</td>\n",
       "    </tr>\n",
       "    <tr>\n",
       "      <th>4</th>\n",
       "      <td>ИП</td>\n",
       "      <td>73.0</td>\n",
       "      <td>71.0</td>\n",
       "      <td>16.0</td>\n",
       "      <td>21.0</td>\n",
       "      <td>17.0</td>\n",
       "      <td>2.0</td>\n",
       "      <td>7.0</td>\n",
       "    </tr>\n",
       "    <tr>\n",
       "      <th>5</th>\n",
       "      <td>МАУ</td>\n",
       "      <td>NaN</td>\n",
       "      <td>1.0</td>\n",
       "      <td>NaN</td>\n",
       "      <td>NaN</td>\n",
       "      <td>NaN</td>\n",
       "      <td>NaN</td>\n",
       "      <td>NaN</td>\n",
       "    </tr>\n",
       "    <tr>\n",
       "      <th>6</th>\n",
       "      <td>МУП</td>\n",
       "      <td>2.0</td>\n",
       "      <td>NaN</td>\n",
       "      <td>NaN</td>\n",
       "      <td>4.0</td>\n",
       "      <td>NaN</td>\n",
       "      <td>NaN</td>\n",
       "      <td>NaN</td>\n",
       "    </tr>\n",
       "    <tr>\n",
       "      <th>7</th>\n",
       "      <td>ОАО</td>\n",
       "      <td>6.0</td>\n",
       "      <td>11.0</td>\n",
       "      <td>3.0</td>\n",
       "      <td>1.0</td>\n",
       "      <td>NaN</td>\n",
       "      <td>1.0</td>\n",
       "      <td>NaN</td>\n",
       "    </tr>\n",
       "    <tr>\n",
       "      <th>8</th>\n",
       "      <td>ООО</td>\n",
       "      <td>368.0</td>\n",
       "      <td>167.0</td>\n",
       "      <td>57.0</td>\n",
       "      <td>49.0</td>\n",
       "      <td>18.0</td>\n",
       "      <td>16.0</td>\n",
       "      <td>9.0</td>\n",
       "    </tr>\n",
       "    <tr>\n",
       "      <th>9</th>\n",
       "      <td>ПАО</td>\n",
       "      <td>NaN</td>\n",
       "      <td>4.0</td>\n",
       "      <td>NaN</td>\n",
       "      <td>1.0</td>\n",
       "      <td>NaN</td>\n",
       "      <td>1.0</td>\n",
       "      <td>NaN</td>\n",
       "    </tr>\n",
       "    <tr>\n",
       "      <th>10</th>\n",
       "      <td>ТС</td>\n",
       "      <td>1.0</td>\n",
       "      <td>NaN</td>\n",
       "      <td>NaN</td>\n",
       "      <td>NaN</td>\n",
       "      <td>NaN</td>\n",
       "      <td>NaN</td>\n",
       "      <td>NaN</td>\n",
       "    </tr>\n",
       "    <tr>\n",
       "      <th>11</th>\n",
       "      <td>ФГБУ</td>\n",
       "      <td>NaN</td>\n",
       "      <td>NaN</td>\n",
       "      <td>1.0</td>\n",
       "      <td>NaN</td>\n",
       "      <td>NaN</td>\n",
       "      <td>NaN</td>\n",
       "      <td>NaN</td>\n",
       "    </tr>\n",
       "    <tr>\n",
       "      <th>12</th>\n",
       "      <td>ФЛ</td>\n",
       "      <td>184.0</td>\n",
       "      <td>44.0</td>\n",
       "      <td>8.0</td>\n",
       "      <td>3.0</td>\n",
       "      <td>9.0</td>\n",
       "      <td>6.0</td>\n",
       "      <td>5.0</td>\n",
       "    </tr>\n",
       "  </tbody>\n",
       "</table>\n",
       "</div>"
      ],
      "text/plain": [
       "short_type               form  конструкция  панно  другое  кронштейн  короб  \\\n",
       "0                       АННМО          1.0    NaN     NaN        NaN    NaN   \n",
       "1           АНО НОУ СПО КПИиЭ          NaN    2.0     NaN        1.0    NaN   \n",
       "2                          АО          1.0    3.0     1.0        1.0    NaN   \n",
       "3                         ЗАО          NaN   43.0     1.0        NaN    NaN   \n",
       "4                          ИП         73.0   71.0    16.0       21.0   17.0   \n",
       "5                         МАУ          NaN    1.0     NaN        NaN    NaN   \n",
       "6                         МУП          2.0    NaN     NaN        4.0    NaN   \n",
       "7                         ОАО          6.0   11.0     3.0        1.0    NaN   \n",
       "8                         ООО        368.0  167.0    57.0       49.0   18.0   \n",
       "9                         ПАО          NaN    4.0     NaN        1.0    NaN   \n",
       "10                         ТС          1.0    NaN     NaN        NaN    NaN   \n",
       "11                       ФГБУ          NaN    NaN     1.0        NaN    NaN   \n",
       "12                         ФЛ        184.0   44.0     8.0        3.0    9.0   \n",
       "\n",
       "short_type  установка  экран  \n",
       "0                 NaN    NaN  \n",
       "1                 NaN    NaN  \n",
       "2                 NaN    1.0  \n",
       "3                 2.0    NaN  \n",
       "4                 2.0    7.0  \n",
       "5                 NaN    NaN  \n",
       "6                 NaN    NaN  \n",
       "7                 1.0    NaN  \n",
       "8                16.0    9.0  \n",
       "9                 1.0    NaN  \n",
       "10                NaN    NaN  \n",
       "11                NaN    NaN  \n",
       "12                6.0    5.0  "
      ]
     },
     "execution_count": 41,
     "metadata": {},
     "output_type": "execute_result"
    }
   ],
   "source": [
    "form_type = form_type[type_sort].reset_index()\n",
    "form_type"
   ]
  },
  {
   "cell_type": "code",
   "execution_count": 42,
   "metadata": {},
   "outputs": [],
   "source": [
    "form_type = form_sort.merge(form_type, how = 'left', left_on = 'index', right_on = 'form').drop(columns = ['level_0', 'index']).set_index('form')"
   ]
  },
  {
   "cell_type": "code",
   "execution_count": 43,
   "metadata": {
    "scrolled": true
   },
   "outputs": [
    {
     "data": {
      "text/plain": [
       "''"
      ]
     },
     "execution_count": 43,
     "metadata": {},
     "output_type": "execute_result"
    },
    {
     "data": {
      "image/png": "[encoded data removed]",
      "text/plain": [
       "<Figure size 576x288 with 2 Axes>"
      ]
     },
     "metadata": {
      "needs_background": "light"
     },
     "output_type": "display_data"
    }
   ],
   "source": [
    "import seaborn as sns\n",
    "import matplotlib.pyplot as plt\n",
    "plt.figure(figsize = (8, 4))\n",
    "sns.heatmap(form_type, annot = True, linewidths = 1, linecolor = 'grey')\n",
    "plt.title('Количество конструкций по формам и типам')\n",
    "plt.xlabel('type')\n",
    ";"
   ]
  },
  {
   "cell_type": "markdown",
   "metadata": {},
   "source": [
    "<h2>Шаг 3. Статистический анализ. </h2>\n",
    "H0 (Нулевая гипотеза): средний размер конструкции не различается у частных и муниципальных собственников. <br>\n",
    "H1 (Альтернативная гипотеза): средний размер конструкции различается у частных и муниципальных собственников. "
   ]
  },
  {
   "cell_type": "code",
   "execution_count": 44,
   "metadata": {},
   "outputs": [],
   "source": [
    "own_types = df['own_type'].unique()\n",
    "sizes_df = pd.DataFrame(columns = own_types, index = ['Количество','Средний размер'])"
   ]
  },
  {
   "cell_type": "code",
   "execution_count": 45,
   "metadata": {},
   "outputs": [],
   "source": [
    "for own_type in own_types:\n",
    "    sizes_df[own_type]['Количество'] = df.query('own_type == @own_type').shape[0]\n",
    "    sizes_df[own_type]['Средний размер'] = round(df.query('own_type == @own_type')['size'].mean(), 1)"
   ]
  },
  {
   "cell_type": "code",
   "execution_count": 46,
   "metadata": {},
   "outputs": [
    {
     "data": {
      "text/html": [
       "<div>\n",
       "<style scoped>\n",
       "    .dataframe tbody tr th:only-of-type {\n",
       "        vertical-align: middle;\n",
       "    }\n",
       "\n",
       "    .dataframe tbody tr th {\n",
       "        vertical-align: top;\n",
       "    }\n",
       "\n",
       "    .dataframe thead th {\n",
       "        text-align: right;\n",
       "    }\n",
       "</style>\n",
       "<table border=\"1\" class=\"dataframe\">\n",
       "  <thead>\n",
       "    <tr style=\"text-align: right;\">\n",
       "      <th></th>\n",
       "      <th>Частная</th>\n",
       "      <th>Муниципальная</th>\n",
       "    </tr>\n",
       "  </thead>\n",
       "  <tbody>\n",
       "    <tr>\n",
       "      <th>Количество</th>\n",
       "      <td>630</td>\n",
       "      <td>614</td>\n",
       "    </tr>\n",
       "    <tr>\n",
       "      <th>Средний размер</th>\n",
       "      <td>17.9</td>\n",
       "      <td>30.8</td>\n",
       "    </tr>\n",
       "  </tbody>\n",
       "</table>\n",
       "</div>"
      ],
      "text/plain": [
       "               Частная Муниципальная\n",
       "Количество         630           614\n",
       "Средний размер    17.9          30.8"
      ]
     },
     "execution_count": 46,
     "metadata": {},
     "output_type": "execute_result"
    }
   ],
   "source": [
    "sizes_df"
   ]
  },
  {
   "cell_type": "code",
   "execution_count": 47,
   "metadata": {},
   "outputs": [
    {
     "name": "stdout",
     "output_type": "stream",
     "text": [
      "Статистическая значимость теста p-value: 2.0224633706895593e-19\n"
     ]
    }
   ],
   "source": [
    "#Статистический тест для сравнения двух независимых выборок. \n",
    "from scipy.stats import ttest_ind\n",
    "private_sizes = list(df.query('own_type == \"Частная\"')['size'])\n",
    "municipal_sizes = list(df.query('own_type == \"Муниципальная\"')['size'])\n",
    "result = ttest_ind(private_sizes, municipal_sizes)\n",
    "print('Статистическая значимость теста p-value:', result[1])"
   ]
  },
  {
   "cell_type": "markdown",
   "metadata": {},
   "source": [
    "<h2>Шаг 4. Когортный анализ. </h2>\n",
    "Описать активность когорт по годам. "
   ]
  },
  {
   "cell_type": "code",
   "execution_count": 48,
   "metadata": {
    "scrolled": false
   },
   "outputs": [
    {
     "data": {
      "text/html": [
       "<div>\n",
       "<style scoped>\n",
       "    .dataframe tbody tr th:only-of-type {\n",
       "        vertical-align: middle;\n",
       "    }\n",
       "\n",
       "    .dataframe tbody tr th {\n",
       "        vertical-align: top;\n",
       "    }\n",
       "\n",
       "    .dataframe thead th {\n",
       "        text-align: right;\n",
       "    }\n",
       "</style>\n",
       "<table border=\"1\" class=\"dataframe\">\n",
       "  <thead>\n",
       "    <tr style=\"text-align: right;\">\n",
       "      <th></th>\n",
       "      <th>index</th>\n",
       "      <th>start_year</th>\n",
       "    </tr>\n",
       "  </thead>\n",
       "  <tbody>\n",
       "    <tr>\n",
       "      <th>3</th>\n",
       "      <td>2015</td>\n",
       "      <td>127</td>\n",
       "    </tr>\n",
       "    <tr>\n",
       "      <th>0</th>\n",
       "      <td>2016</td>\n",
       "      <td>380</td>\n",
       "    </tr>\n",
       "    <tr>\n",
       "      <th>1</th>\n",
       "      <td>2017</td>\n",
       "      <td>298</td>\n",
       "    </tr>\n",
       "    <tr>\n",
       "      <th>2</th>\n",
       "      <td>2018</td>\n",
       "      <td>246</td>\n",
       "    </tr>\n",
       "    <tr>\n",
       "      <th>4</th>\n",
       "      <td>2019</td>\n",
       "      <td>65</td>\n",
       "    </tr>\n",
       "  </tbody>\n",
       "</table>\n",
       "</div>"
      ],
      "text/plain": [
       "   index  start_year\n",
       "3   2015         127\n",
       "0   2016         380\n",
       "1   2017         298\n",
       "2   2018         246\n",
       "4   2019          65"
      ]
     },
     "execution_count": 48,
     "metadata": {},
     "output_type": "execute_result"
    }
   ],
   "source": [
    "#Суммарная активность когорт владельцев рекламных конструкций. \n",
    "df_filtered['start_year'] = df_filtered['start'].dt.year\n",
    "df_filtered['end_year'] = df_filtered['end'].dt.year\n",
    "cohorts = df_filtered['start_year'].value_counts().reset_index().sort_values(by = 'index').query('index <= 2019')\n",
    "cohorts"
   ]
  },
  {
   "cell_type": "code",
   "execution_count": 49,
   "metadata": {},
   "outputs": [
    {
     "data": {
      "text/html": [
       "<div>\n",
       "<style scoped>\n",
       "    .dataframe tbody tr th:only-of-type {\n",
       "        vertical-align: middle;\n",
       "    }\n",
       "\n",
       "    .dataframe tbody tr th {\n",
       "        vertical-align: top;\n",
       "    }\n",
       "\n",
       "    .dataframe thead th {\n",
       "        text-align: right;\n",
       "    }\n",
       "</style>\n",
       "<table border=\"1\" class=\"dataframe\">\n",
       "  <thead>\n",
       "    <tr style=\"text-align: right;\">\n",
       "      <th>start_year</th>\n",
       "      <th>2015</th>\n",
       "      <th>2016</th>\n",
       "      <th>2017</th>\n",
       "      <th>2018</th>\n",
       "      <th>2019</th>\n",
       "      <th>2020</th>\n",
       "      <th>2021</th>\n",
       "      <th>2022</th>\n",
       "      <th>2023</th>\n",
       "    </tr>\n",
       "    <tr>\n",
       "      <th>owner</th>\n",
       "      <th></th>\n",
       "      <th></th>\n",
       "      <th></th>\n",
       "      <th></th>\n",
       "      <th></th>\n",
       "      <th></th>\n",
       "      <th></th>\n",
       "      <th></th>\n",
       "      <th></th>\n",
       "    </tr>\n",
       "  </thead>\n",
       "  <tbody>\n",
       "    <tr>\n",
       "      <th>АККСБ КС Банк</th>\n",
       "      <td>NaN</td>\n",
       "      <td>1.0</td>\n",
       "      <td>NaN</td>\n",
       "      <td>NaN</td>\n",
       "      <td>NaN</td>\n",
       "      <td>NaN</td>\n",
       "      <td>NaN</td>\n",
       "      <td>NaN</td>\n",
       "      <td>NaN</td>\n",
       "    </tr>\n",
       "    <tr>\n",
       "      <th>АПР-Сити/ТВД</th>\n",
       "      <td>NaN</td>\n",
       "      <td>23.0</td>\n",
       "      <td>NaN</td>\n",
       "      <td>NaN</td>\n",
       "      <td>NaN</td>\n",
       "      <td>NaN</td>\n",
       "      <td>NaN</td>\n",
       "      <td>NaN</td>\n",
       "      <td>NaN</td>\n",
       "    </tr>\n",
       "    <tr>\n",
       "      <th>АТ Меди</th>\n",
       "      <td>NaN</td>\n",
       "      <td>53.0</td>\n",
       "      <td>33.0</td>\n",
       "      <td>1.0</td>\n",
       "      <td>1.0</td>\n",
       "      <td>1.0</td>\n",
       "      <td>1.0</td>\n",
       "      <td>1.0</td>\n",
       "      <td>1.0</td>\n",
       "    </tr>\n",
       "    <tr>\n",
       "      <th>Авангард</th>\n",
       "      <td>1.0</td>\n",
       "      <td>NaN</td>\n",
       "      <td>NaN</td>\n",
       "      <td>NaN</td>\n",
       "      <td>NaN</td>\n",
       "      <td>NaN</td>\n",
       "      <td>NaN</td>\n",
       "      <td>NaN</td>\n",
       "      <td>NaN</td>\n",
       "    </tr>\n",
       "    <tr>\n",
       "      <th>АвтоАвангард</th>\n",
       "      <td>NaN</td>\n",
       "      <td>NaN</td>\n",
       "      <td>NaN</td>\n",
       "      <td>4.0</td>\n",
       "      <td>NaN</td>\n",
       "      <td>NaN</td>\n",
       "      <td>NaN</td>\n",
       "      <td>NaN</td>\n",
       "      <td>NaN</td>\n",
       "    </tr>\n",
       "    <tr>\n",
       "      <th>...</th>\n",
       "      <td>...</td>\n",
       "      <td>...</td>\n",
       "      <td>...</td>\n",
       "      <td>...</td>\n",
       "      <td>...</td>\n",
       "      <td>...</td>\n",
       "      <td>...</td>\n",
       "      <td>...</td>\n",
       "      <td>...</td>\n",
       "    </tr>\n",
       "    <tr>\n",
       "      <th>Эс класс клиник Пенза</th>\n",
       "      <td>NaN</td>\n",
       "      <td>NaN</td>\n",
       "      <td>4.0</td>\n",
       "      <td>NaN</td>\n",
       "      <td>NaN</td>\n",
       "      <td>NaN</td>\n",
       "      <td>NaN</td>\n",
       "      <td>NaN</td>\n",
       "      <td>NaN</td>\n",
       "    </tr>\n",
       "    <tr>\n",
       "      <th>Южный</th>\n",
       "      <td>1.0</td>\n",
       "      <td>NaN</td>\n",
       "      <td>NaN</td>\n",
       "      <td>NaN</td>\n",
       "      <td>NaN</td>\n",
       "      <td>NaN</td>\n",
       "      <td>NaN</td>\n",
       "      <td>NaN</td>\n",
       "      <td>NaN</td>\n",
       "    </tr>\n",
       "    <tr>\n",
       "      <th>Юнастиль</th>\n",
       "      <td>NaN</td>\n",
       "      <td>1.0</td>\n",
       "      <td>NaN</td>\n",
       "      <td>NaN</td>\n",
       "      <td>NaN</td>\n",
       "      <td>NaN</td>\n",
       "      <td>NaN</td>\n",
       "      <td>NaN</td>\n",
       "      <td>NaN</td>\n",
       "    </tr>\n",
       "    <tr>\n",
       "      <th>Юпитер</th>\n",
       "      <td>NaN</td>\n",
       "      <td>7.0</td>\n",
       "      <td>2.0</td>\n",
       "      <td>10.0</td>\n",
       "      <td>4.0</td>\n",
       "      <td>NaN</td>\n",
       "      <td>NaN</td>\n",
       "      <td>NaN</td>\n",
       "      <td>NaN</td>\n",
       "    </tr>\n",
       "    <tr>\n",
       "      <th>Юрин Вячеслав Владимирович</th>\n",
       "      <td>NaN</td>\n",
       "      <td>NaN</td>\n",
       "      <td>1.0</td>\n",
       "      <td>NaN</td>\n",
       "      <td>1.0</td>\n",
       "      <td>NaN</td>\n",
       "      <td>NaN</td>\n",
       "      <td>NaN</td>\n",
       "      <td>NaN</td>\n",
       "    </tr>\n",
       "  </tbody>\n",
       "</table>\n",
       "<p>221 rows × 9 columns</p>\n",
       "</div>"
      ],
      "text/plain": [
       "start_year                  2015  2016  2017  2018  2019  2020  2021  2022  \\\n",
       "owner                                                                        \n",
       "АККСБ КС Банк                NaN   1.0   NaN   NaN   NaN   NaN   NaN   NaN   \n",
       "АПР-Сити/ТВД                 NaN  23.0   NaN   NaN   NaN   NaN   NaN   NaN   \n",
       "АТ Меди                      NaN  53.0  33.0   1.0   1.0   1.0   1.0   1.0   \n",
       "Авангард                     1.0   NaN   NaN   NaN   NaN   NaN   NaN   NaN   \n",
       "АвтоАвангард                 NaN   NaN   NaN   4.0   NaN   NaN   NaN   NaN   \n",
       "...                          ...   ...   ...   ...   ...   ...   ...   ...   \n",
       "Эс класс клиник Пенза        NaN   NaN   4.0   NaN   NaN   NaN   NaN   NaN   \n",
       "Южный                        1.0   NaN   NaN   NaN   NaN   NaN   NaN   NaN   \n",
       "Юнастиль                     NaN   1.0   NaN   NaN   NaN   NaN   NaN   NaN   \n",
       "Юпитер                       NaN   7.0   2.0  10.0   4.0   NaN   NaN   NaN   \n",
       "Юрин Вячеслав Владимирович   NaN   NaN   1.0   NaN   1.0   NaN   NaN   NaN   \n",
       "\n",
       "start_year                  2023  \n",
       "owner                             \n",
       "АККСБ КС Банк                NaN  \n",
       "АПР-Сити/ТВД                 NaN  \n",
       "АТ Меди                      1.0  \n",
       "Авангард                     NaN  \n",
       "АвтоАвангард                 NaN  \n",
       "...                          ...  \n",
       "Эс класс клиник Пенза        NaN  \n",
       "Южный                        NaN  \n",
       "Юнастиль                     NaN  \n",
       "Юпитер                       NaN  \n",
       "Юрин Вячеслав Владимирович   NaN  \n",
       "\n",
       "[221 rows x 9 columns]"
      ]
     },
     "execution_count": 49,
     "metadata": {},
     "output_type": "execute_result"
    }
   ],
   "source": [
    "#Сводная таблица. Количество новых разрешений для владельцев конструкций по годам. \n",
    "start_users = df_filtered.pivot_table(index = 'owner', columns = 'start_year', values = 'premission_id', aggfunc = 'count')\n",
    "start_users"
   ]
  },
  {
   "cell_type": "code",
   "execution_count": 50,
   "metadata": {},
   "outputs": [
    {
     "data": {
      "text/html": [
       "<div>\n",
       "<style scoped>\n",
       "    .dataframe tbody tr th:only-of-type {\n",
       "        vertical-align: middle;\n",
       "    }\n",
       "\n",
       "    .dataframe tbody tr th {\n",
       "        vertical-align: top;\n",
       "    }\n",
       "\n",
       "    .dataframe thead th {\n",
       "        text-align: right;\n",
       "    }\n",
       "</style>\n",
       "<table border=\"1\" class=\"dataframe\">\n",
       "  <thead>\n",
       "    <tr style=\"text-align: right;\">\n",
       "      <th></th>\n",
       "      <th>first_start_year</th>\n",
       "    </tr>\n",
       "    <tr>\n",
       "      <th>owner</th>\n",
       "      <th></th>\n",
       "    </tr>\n",
       "  </thead>\n",
       "  <tbody>\n",
       "    <tr>\n",
       "      <th>АККСБ КС Банк</th>\n",
       "      <td>2016</td>\n",
       "    </tr>\n",
       "    <tr>\n",
       "      <th>АПР-Сити/ТВД</th>\n",
       "      <td>2016</td>\n",
       "    </tr>\n",
       "    <tr>\n",
       "      <th>АТ Меди</th>\n",
       "      <td>2016</td>\n",
       "    </tr>\n",
       "    <tr>\n",
       "      <th>Авангард</th>\n",
       "      <td>2015</td>\n",
       "    </tr>\n",
       "    <tr>\n",
       "      <th>АвтоАвангард</th>\n",
       "      <td>2018</td>\n",
       "    </tr>\n",
       "    <tr>\n",
       "      <th>...</th>\n",
       "      <td>...</td>\n",
       "    </tr>\n",
       "    <tr>\n",
       "      <th>Эс класс клиник Пенза</th>\n",
       "      <td>2017</td>\n",
       "    </tr>\n",
       "    <tr>\n",
       "      <th>Южный</th>\n",
       "      <td>2015</td>\n",
       "    </tr>\n",
       "    <tr>\n",
       "      <th>Юнастиль</th>\n",
       "      <td>2016</td>\n",
       "    </tr>\n",
       "    <tr>\n",
       "      <th>Юпитер</th>\n",
       "      <td>2016</td>\n",
       "    </tr>\n",
       "    <tr>\n",
       "      <th>Юрин Вячеслав Владимирович</th>\n",
       "      <td>2017</td>\n",
       "    </tr>\n",
       "  </tbody>\n",
       "</table>\n",
       "<p>221 rows × 1 columns</p>\n",
       "</div>"
      ],
      "text/plain": [
       "                            first_start_year\n",
       "owner                                       \n",
       "АККСБ КС Банк                           2016\n",
       "АПР-Сити/ТВД                            2016\n",
       "АТ Меди                                 2016\n",
       "Авангард                                2015\n",
       "АвтоАвангард                            2018\n",
       "...                                      ...\n",
       "Эс класс клиник Пенза                   2017\n",
       "Южный                                   2015\n",
       "Юнастиль                                2016\n",
       "Юпитер                                  2016\n",
       "Юрин Вячеслав Владимирович              2017\n",
       "\n",
       "[221 rows x 1 columns]"
      ]
     },
     "execution_count": 50,
     "metadata": {},
     "output_type": "execute_result"
    }
   ],
   "source": [
    "#Индикатор когорты по году начала первого разрешения. \n",
    "first_year = df_filtered.groupby('owner').agg({'start_year':'min'})\n",
    "first_year.columns = ['first_start_year']\n",
    "first_year"
   ]
  },
  {
   "cell_type": "code",
   "execution_count": 51,
   "metadata": {},
   "outputs": [
    {
     "data": {
      "text/html": [
       "<div>\n",
       "<style scoped>\n",
       "    .dataframe tbody tr th:only-of-type {\n",
       "        vertical-align: middle;\n",
       "    }\n",
       "\n",
       "    .dataframe tbody tr th {\n",
       "        vertical-align: top;\n",
       "    }\n",
       "\n",
       "    .dataframe thead th {\n",
       "        text-align: right;\n",
       "    }\n",
       "</style>\n",
       "<table border=\"1\" class=\"dataframe\">\n",
       "  <thead>\n",
       "    <tr style=\"text-align: right;\">\n",
       "      <th></th>\n",
       "      <th>premission_id</th>\n",
       "      <th>start</th>\n",
       "      <th>end</th>\n",
       "      <th>form</th>\n",
       "      <th>owner</th>\n",
       "      <th>type</th>\n",
       "      <th>size</th>\n",
       "      <th>adress</th>\n",
       "      <th>own_type</th>\n",
       "      <th>base</th>\n",
       "      <th>duration</th>\n",
       "      <th>start_year</th>\n",
       "      <th>end_year</th>\n",
       "      <th>first_start_year</th>\n",
       "    </tr>\n",
       "  </thead>\n",
       "  <tbody>\n",
       "    <tr>\n",
       "      <th>0</th>\n",
       "      <td>77-15</td>\n",
       "      <td>2015-02-03</td>\n",
       "      <td>2025-01-03</td>\n",
       "      <td>ООО</td>\n",
       "      <td>Пласт</td>\n",
       "      <td>Настенное панно</td>\n",
       "      <td>24.00</td>\n",
       "      <td>пр-кт, Строителей, 152 Б</td>\n",
       "      <td>Частная</td>\n",
       "      <td>ДСНИ</td>\n",
       "      <td>3622 days</td>\n",
       "      <td>2015</td>\n",
       "      <td>2025</td>\n",
       "      <td>2015</td>\n",
       "    </tr>\n",
       "    <tr>\n",
       "      <th>1</th>\n",
       "      <td>101-15</td>\n",
       "      <td>2015-03-30</td>\n",
       "      <td>2025-01-02</td>\n",
       "      <td>ИП</td>\n",
       "      <td>Сорокина Л. Н.</td>\n",
       "      <td>Панель - кронштейн</td>\n",
       "      <td>1.75</td>\n",
       "      <td>ул. Пушкина, 45</td>\n",
       "      <td>Частная</td>\n",
       "      <td>ДСНИ</td>\n",
       "      <td>3566 days</td>\n",
       "      <td>2015</td>\n",
       "      <td>2025</td>\n",
       "      <td>2015</td>\n",
       "    </tr>\n",
       "    <tr>\n",
       "      <th>2</th>\n",
       "      <td>142-15</td>\n",
       "      <td>2015-05-05</td>\n",
       "      <td>2025-04-05</td>\n",
       "      <td>ООО</td>\n",
       "      <td>Магазин № 52</td>\n",
       "      <td>Бегущая строка</td>\n",
       "      <td>1.20</td>\n",
       "      <td>ул. Ленинградская, 7 (ТЦ Два Гуся)</td>\n",
       "      <td>Частная</td>\n",
       "      <td>ДСНИ</td>\n",
       "      <td>3623 days</td>\n",
       "      <td>2015</td>\n",
       "      <td>2025</td>\n",
       "      <td>2015</td>\n",
       "    </tr>\n",
       "    <tr>\n",
       "      <th>3</th>\n",
       "      <td>99-15</td>\n",
       "      <td>2015-03-16</td>\n",
       "      <td>2024-12-16</td>\n",
       "      <td>ФЛ</td>\n",
       "      <td>Седов Сергей Алексеевич</td>\n",
       "      <td>Настенное панно</td>\n",
       "      <td>9.00</td>\n",
       "      <td>ул. Окружная, 111</td>\n",
       "      <td>Частная</td>\n",
       "      <td>ДСНИ</td>\n",
       "      <td>3563 days</td>\n",
       "      <td>2015</td>\n",
       "      <td>2024</td>\n",
       "      <td>2015</td>\n",
       "    </tr>\n",
       "    <tr>\n",
       "      <th>4</th>\n",
       "      <td>87-15</td>\n",
       "      <td>2015-02-03</td>\n",
       "      <td>2024-12-17</td>\n",
       "      <td>ФЛ</td>\n",
       "      <td>Седов Сергей Алексеевич</td>\n",
       "      <td>Настенное панно</td>\n",
       "      <td>14.00</td>\n",
       "      <td>ул. Баумана, 30 м</td>\n",
       "      <td>Частная</td>\n",
       "      <td>ДСНИ</td>\n",
       "      <td>3605 days</td>\n",
       "      <td>2015</td>\n",
       "      <td>2024</td>\n",
       "      <td>2015</td>\n",
       "    </tr>\n",
       "    <tr>\n",
       "      <th>...</th>\n",
       "      <td>...</td>\n",
       "      <td>...</td>\n",
       "      <td>...</td>\n",
       "      <td>...</td>\n",
       "      <td>...</td>\n",
       "      <td>...</td>\n",
       "      <td>...</td>\n",
       "      <td>...</td>\n",
       "      <td>...</td>\n",
       "      <td>...</td>\n",
       "      <td>...</td>\n",
       "      <td>...</td>\n",
       "      <td>...</td>\n",
       "      <td>...</td>\n",
       "    </tr>\n",
       "    <tr>\n",
       "      <th>1115</th>\n",
       "      <td>89-19</td>\n",
       "      <td>2019-01-11</td>\n",
       "      <td>2024-10-31</td>\n",
       "      <td>ООО</td>\n",
       "      <td>Спектр-Авто</td>\n",
       "      <td>Стела</td>\n",
       "      <td>19.20</td>\n",
       "      <td>ул. Беляева, 47</td>\n",
       "      <td>Муниципальная</td>\n",
       "      <td>29-19</td>\n",
       "      <td>2120 days</td>\n",
       "      <td>2019</td>\n",
       "      <td>2024</td>\n",
       "      <td>2019</td>\n",
       "    </tr>\n",
       "    <tr>\n",
       "      <th>1116</th>\n",
       "      <td>90-19</td>\n",
       "      <td>2019-01-11</td>\n",
       "      <td>2026-10-31</td>\n",
       "      <td>АО</td>\n",
       "      <td>ПО Компрессорные машины</td>\n",
       "      <td>Отдельно стоящая щитовая конструкция</td>\n",
       "      <td>18.00</td>\n",
       "      <td>ФАД М-5, направление из Челябинска на Москву м...</td>\n",
       "      <td>Муниципальная</td>\n",
       "      <td>30-19</td>\n",
       "      <td>2850 days</td>\n",
       "      <td>2019</td>\n",
       "      <td>2026</td>\n",
       "      <td>2019</td>\n",
       "    </tr>\n",
       "    <tr>\n",
       "      <th>1117</th>\n",
       "      <td>91-19</td>\n",
       "      <td>2019-01-11</td>\n",
       "      <td>2026-10-31</td>\n",
       "      <td>ООО</td>\n",
       "      <td>СитиПроект</td>\n",
       "      <td>Отдельно стоящая щитовая конструкция</td>\n",
       "      <td>18.00</td>\n",
       "      <td>ФАД М-5, направление из Челябинска на Москву м...</td>\n",
       "      <td>Муниципальная</td>\n",
       "      <td>38-19</td>\n",
       "      <td>2850 days</td>\n",
       "      <td>2019</td>\n",
       "      <td>2026</td>\n",
       "      <td>2019</td>\n",
       "    </tr>\n",
       "    <tr>\n",
       "      <th>1118</th>\n",
       "      <td>92-19</td>\n",
       "      <td>2019-01-11</td>\n",
       "      <td>2026-10-31</td>\n",
       "      <td>ООО</td>\n",
       "      <td>СитиПроект</td>\n",
       "      <td>Отдельно стоящая щитовая конструкция</td>\n",
       "      <td>18.00</td>\n",
       "      <td>ФАД М-5, направление из Челябинска на Москву м...</td>\n",
       "      <td>Муниципальная</td>\n",
       "      <td>39-19</td>\n",
       "      <td>2850 days</td>\n",
       "      <td>2019</td>\n",
       "      <td>2026</td>\n",
       "      <td>2019</td>\n",
       "    </tr>\n",
       "    <tr>\n",
       "      <th>1119</th>\n",
       "      <td>93-19</td>\n",
       "      <td>2019-01-11</td>\n",
       "      <td>2024-10-31</td>\n",
       "      <td>ООО</td>\n",
       "      <td>СитиПроект</td>\n",
       "      <td>Стела</td>\n",
       "      <td>12.60</td>\n",
       "      <td>ул. Суворова, 144 А (1)</td>\n",
       "      <td>Муниципальная</td>\n",
       "      <td>40-19</td>\n",
       "      <td>2120 days</td>\n",
       "      <td>2019</td>\n",
       "      <td>2024</td>\n",
       "      <td>2019</td>\n",
       "    </tr>\n",
       "  </tbody>\n",
       "</table>\n",
       "<p>1120 rows × 14 columns</p>\n",
       "</div>"
      ],
      "text/plain": [
       "     premission_id      start        end form                    owner  \\\n",
       "0            77-15 2015-02-03 2025-01-03  ООО                    Пласт   \n",
       "1           101-15 2015-03-30 2025-01-02   ИП           Сорокина Л. Н.   \n",
       "2           142-15 2015-05-05 2025-04-05  ООО             Магазин № 52   \n",
       "3            99-15 2015-03-16 2024-12-16   ФЛ  Седов Сергей Алексеевич   \n",
       "4            87-15 2015-02-03 2024-12-17   ФЛ  Седов Сергей Алексеевич   \n",
       "...            ...        ...        ...  ...                      ...   \n",
       "1115         89-19 2019-01-11 2024-10-31  ООО              Спектр-Авто   \n",
       "1116         90-19 2019-01-11 2026-10-31   АО  ПО Компрессорные машины   \n",
       "1117         91-19 2019-01-11 2026-10-31  ООО               СитиПроект   \n",
       "1118         92-19 2019-01-11 2026-10-31  ООО               СитиПроект   \n",
       "1119         93-19 2019-01-11 2024-10-31  ООО               СитиПроект   \n",
       "\n",
       "                                      type   size  \\\n",
       "0                          Настенное панно  24.00   \n",
       "1                       Панель - кронштейн   1.75   \n",
       "2                           Бегущая строка   1.20   \n",
       "3                          Настенное панно   9.00   \n",
       "4                          Настенное панно  14.00   \n",
       "...                                    ...    ...   \n",
       "1115                                 Стела  19.20   \n",
       "1116  Отдельно стоящая щитовая конструкция  18.00   \n",
       "1117  Отдельно стоящая щитовая конструкция  18.00   \n",
       "1118  Отдельно стоящая щитовая конструкция  18.00   \n",
       "1119                                 Стела  12.60   \n",
       "\n",
       "                                                 adress       own_type   base  \\\n",
       "0                              пр-кт, Строителей, 152 Б        Частная   ДСНИ   \n",
       "1                                       ул. Пушкина, 45        Частная   ДСНИ   \n",
       "2                    ул. Ленинградская, 7 (ТЦ Два Гуся)        Частная   ДСНИ   \n",
       "3                                     ул. Окружная, 111        Частная   ДСНИ   \n",
       "4                                     ул. Баумана, 30 м        Частная   ДСНИ   \n",
       "...                                                 ...            ...    ...   \n",
       "1115                                    ул. Беляева, 47  Муниципальная  29-19   \n",
       "1116  ФАД М-5, направление из Челябинска на Москву м...  Муниципальная  30-19   \n",
       "1117  ФАД М-5, направление из Челябинска на Москву м...  Муниципальная  38-19   \n",
       "1118  ФАД М-5, направление из Челябинска на Москву м...  Муниципальная  39-19   \n",
       "1119                            ул. Суворова, 144 А (1)  Муниципальная  40-19   \n",
       "\n",
       "      duration  start_year  end_year  first_start_year  \n",
       "0    3622 days        2015      2025              2015  \n",
       "1    3566 days        2015      2025              2015  \n",
       "2    3623 days        2015      2025              2015  \n",
       "3    3563 days        2015      2024              2015  \n",
       "4    3605 days        2015      2024              2015  \n",
       "...        ...         ...       ...               ...  \n",
       "1115 2120 days        2019      2024              2019  \n",
       "1116 2850 days        2019      2026              2019  \n",
       "1117 2850 days        2019      2026              2019  \n",
       "1118 2850 days        2019      2026              2019  \n",
       "1119 2120 days        2019      2024              2019  \n",
       "\n",
       "[1120 rows x 14 columns]"
      ]
     },
     "execution_count": 51,
     "metadata": {},
     "output_type": "execute_result"
    }
   ],
   "source": [
    "#Создание когортной таблицы в несколько этапов. \n",
    "cohorts = df_filtered.merge(first_year.reset_index(), how = 'left', on = 'owner')\n",
    "cohorts"
   ]
  },
  {
   "cell_type": "code",
   "execution_count": 52,
   "metadata": {},
   "outputs": [],
   "source": [
    "cohorts = cohorts.pivot_table(index = 'first_start_year', columns = 'start_year', values = 'premission_id', aggfunc = 'count')"
   ]
  },
  {
   "cell_type": "code",
   "execution_count": 53,
   "metadata": {},
   "outputs": [],
   "source": [
    "cohorts = cohorts[range(2015,2020)]"
   ]
  },
  {
   "cell_type": "code",
   "execution_count": 54,
   "metadata": {},
   "outputs": [
    {
     "data": {
      "image/png": "[encoded data removed]",
      "text/plain": [
       "<Figure size 432x288 with 2 Axes>"
      ]
     },
     "metadata": {
      "needs_background": "light"
     },
     "output_type": "display_data"
    }
   ],
   "source": [
    "sns.heatmap(data = cohorts, annot = True, linewidths = 1, linecolor = 'grey')\n",
    "plt.title('Когорты получают новые разрешения по годам');"
   ]
  },
  {
   "cell_type": "markdown",
   "metadata": {},
   "source": [
    "<h2>Шаг 5. Поиск освобождающихся мест.</h2>"
   ]
  },
  {
   "cell_type": "code",
   "execution_count": 55,
   "metadata": {},
   "outputs": [],
   "source": [
    "df_filtered['street'] = df_filtered['adress'].apply(lambda x: x.split(',')[0])"
   ]
  },
  {
   "cell_type": "code",
   "execution_count": 56,
   "metadata": {},
   "outputs": [],
   "source": [
    "end_street = top10_street.reset_index().merge(df_filtered.pivot_table(index = 'street', columns = 'end_year', values = 'premission_id', aggfunc = 'count'), how = 'left', left_on = 'index', right_on = 'street')"
   ]
  },
  {
   "cell_type": "code",
   "execution_count": 57,
   "metadata": {},
   "outputs": [],
   "source": [
    "end_street = end_street.drop(columns = 'adress').set_index('index')"
   ]
  },
  {
   "cell_type": "code",
   "execution_count": 58,
   "metadata": {},
   "outputs": [
    {
     "data": {
      "image/png": "[encoded data removed]",
      "text/plain": [
       "<Figure size 432x288 with 2 Axes>"
      ]
     },
     "metadata": {
      "needs_background": "light"
     },
     "output_type": "display_data"
    }
   ],
   "source": [
    "sns.heatmap(data = end_street, annot = True, linewidths = 1, linecolor = 'grey')\n",
    "plt.title('Закрытие разрешений на популярных улицах по годам')\n",
    "plt.ylabel('Улица')\n",
    "plt.xlabel('Год');"
   ]
  },
  {
   "cell_type": "markdown",
   "metadata": {},
   "source": [
    "<h2>Шаг 6. Общие выводы. </h2>"
   ]
  },
  {
   "cell_type": "markdown",
   "metadata": {},
   "source": [
    "Наиболее популярные у рекламодателей улицы загружены рекламными конструкциями. Однако действие разрешений ограничено, есть возможность отслеживать освобождающиеся места с помощью открытых данных. Например, многие разрешения на конструкции завершаются в 2023 году. Можно предположить, что это связано с предстоящими выборами Президента в 2024 году. Также в тепловой карте можно обнаружить, что многие разрешения заканчиваются в 2025, 2027 году. <br>\n",
    "<br>\n",
    "Можно найти наиболее активных владельцев рекламных конструкций (Резник Александр Михайлович, Стрит-Медиа, АТ Меди ...), <br>\n",
    "И наиболее популярные улицы для установки конструкций (пр. Строителей, ул. Калинина, пр. Победы ... ) <br>\n",
    "Можно описать историю появления действующих на момент публикации данных рекламных конструкций. Владельцы конструкций большинство разрешений получают в первый год своей активности. Высокие показатели активности показывает когорта владельцев 2016 года. <br>\n",
    "<br>\n",
    "Размер конструкции не имеет связи с длительностью действия разрешения (корреляция 0.72%). <br>\n",
    "Размер конструкции статистически значимо отличается для частных и муниципальных собственников (средние размеры 17.9, 30.8 соответственно). <br>\n",
    "<br>\n",
    "Технические выводы: в исходных данных обнаружены ошибки. Полные дубликаты строк (3), дубликат номера разрешения (1), пропуски в столбце 'Размер рекламной конструкции', нечитаемые значения в столбцах даты (119), ошибки в датах время ('end' < 'start', 5). "
   ]
  }
 ],
 "metadata": {
  "kernelspec": {
   "display_name": "Python 3",
   "language": "python",
   "name": "python3"
  },
  "language_info": {
   "codemirror_mode": {
    "name": "ipython",
    "version": 3
   },
   "file_extension": ".py",
   "mimetype": "text/x-python",
   "name": "python",
   "nbconvert_exporter": "python",
   "pygments_lexer": "ipython3",
   "version": "3.7.6"
  }
 },
 "nbformat": 4,
 "nbformat_minor": 4
}
